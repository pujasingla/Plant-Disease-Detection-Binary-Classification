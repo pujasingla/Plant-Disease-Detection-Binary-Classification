{
 "cells": [
  {
   "cell_type": "code",
   "execution_count": 1,
   "id": "8bd15ae4",
   "metadata": {},
   "outputs": [],
   "source": [
    "import numpy as np\n",
    "import pandas as pd\n",
    "%matplotlib inline\n",
    "import matplotlib as mpl\n",
    "import matplotlib.pyplot as plt\n",
    "import os\n",
    "import tensorflow as tf\n",
    "from tensorflow import keras\n",
    "from tensorflow.keras.preprocessing.image import ImageDataGenerator"
   ]
  },
  {
   "cell_type": "code",
   "execution_count": 2,
   "id": "c47c001f",
   "metadata": {},
   "outputs": [],
   "source": [
    "train_dir = r'E:\\Minor Project\\PlantVillage(1)\\train'\n",
    "validation_dir= r'E:\\Minor Project\\PlantVillage(1)\\val'"
   ]
  },
  {
   "cell_type": "code",
   "execution_count": 3,
   "id": "5be380ab",
   "metadata": {},
   "outputs": [
    {
     "name": "stdout",
     "output_type": "stream",
     "text": [
      "Found 30591 images belonging to 2 classes.\n",
      "Found 9759 images belonging to 2 classes.\n"
     ]
    }
   ],
   "source": [
    "train_datagen = ImageDataGenerator(rescale=1./255)\n",
    "test_datagen = ImageDataGenerator(rescale=1./255)\n",
    "\n",
    "train_generator = train_datagen.flow_from_directory (\n",
    "                train_dir,\n",
    "                target_size=(256,256),\n",
    "                batch_size=32,\n",
    "                class_mode=\"binary\")\n",
    "validation_generator = test_datagen.flow_from_directory (\n",
    "                validation_dir,\n",
    "                target_size=(256,256),\n",
    "                batch_size=32,\n",
    "                class_mode=\"binary\")"
   ]
  },
  {
   "cell_type": "code",
   "execution_count": 4,
   "id": "85bccb96",
   "metadata": {},
   "outputs": [],
   "source": [
    "from tensorflow.keras import layers\n",
    "from tensorflow.keras import models\n",
    "from keras.layers import Dropout"
   ]
  },
  {
   "cell_type": "code",
   "execution_count": 5,
   "id": "ec29f70a",
   "metadata": {},
   "outputs": [],
   "source": [
    "model = models.Sequential()\n",
    "\n",
    "model.add(layers.Conv2D(32,(3,3), activation='relu',\n",
    "         input_shape=(256,256,3)))\n",
    "model.add(layers.MaxPooling2D((2,2)))\n",
    "\n",
    "model.add(layers.Conv2D(64,(3,3), activation='relu'))\n",
    "model.add(layers.MaxPooling2D((2,2)))\n",
    "\n",
    "model.add(layers.Conv2D(128,(3,3), activation='relu'))\n",
    "model.add(layers.MaxPooling2D((2,2)))\n",
    "\n",
    "model.add(layers.Conv2D(128,(3,3), activation='relu'))\n",
    "model.add(layers.MaxPooling2D((2,2)))\n",
    "\n",
    "model.add(layers.Flatten())\n",
    "\n",
    "model.add(layers.Dense(512,activation='relu'))\n",
    "model.add(Dropout(0.5))\n",
    "model.add(layers.Dense(1,activation='sigmoid'))"
   ]
  },
  {
   "cell_type": "code",
   "execution_count": 6,
   "id": "631c1f3c",
   "metadata": {},
   "outputs": [
    {
     "name": "stdout",
     "output_type": "stream",
     "text": [
      "Model: \"sequential\"\n",
      "_________________________________________________________________\n",
      "Layer (type)                 Output Shape              Param #   \n",
      "=================================================================\n",
      "conv2d (Conv2D)              (None, 254, 254, 32)      896       \n",
      "_________________________________________________________________\n",
      "max_pooling2d (MaxPooling2D) (None, 127, 127, 32)      0         \n",
      "_________________________________________________________________\n",
      "conv2d_1 (Conv2D)            (None, 125, 125, 64)      18496     \n",
      "_________________________________________________________________\n",
      "max_pooling2d_1 (MaxPooling2 (None, 62, 62, 64)        0         \n",
      "_________________________________________________________________\n",
      "conv2d_2 (Conv2D)            (None, 60, 60, 128)       73856     \n",
      "_________________________________________________________________\n",
      "max_pooling2d_2 (MaxPooling2 (None, 30, 30, 128)       0         \n",
      "_________________________________________________________________\n",
      "conv2d_3 (Conv2D)            (None, 28, 28, 128)       147584    \n",
      "_________________________________________________________________\n",
      "max_pooling2d_3 (MaxPooling2 (None, 14, 14, 128)       0         \n",
      "_________________________________________________________________\n",
      "flatten (Flatten)            (None, 25088)             0         \n",
      "_________________________________________________________________\n",
      "dense (Dense)                (None, 512)               12845568  \n",
      "_________________________________________________________________\n",
      "dropout (Dropout)            (None, 512)               0         \n",
      "_________________________________________________________________\n",
      "dense_1 (Dense)              (None, 1)                 513       \n",
      "=================================================================\n",
      "Total params: 13,086,913\n",
      "Trainable params: 13,086,913\n",
      "Non-trainable params: 0\n",
      "_________________________________________________________________\n"
     ]
    }
   ],
   "source": [
    "model.summary()"
   ]
  },
  {
   "cell_type": "code",
   "execution_count": 7,
   "id": "abf7a936",
   "metadata": {},
   "outputs": [],
   "source": [
    "from tensorflow.keras import optimizers\n",
    "\n",
    "model.compile (loss = 'binary_crossentropy',\n",
    "              optimizer = optimizers.RMSprop(learning_rate=1e-4),\n",
    "              metrics=['acc',tf.keras.metrics.TruePositives(),tf.keras.metrics.TrueNegatives(),tf.keras.metrics.FalsePositives(),tf.keras.metrics.FalseNegatives(),tf.keras.metrics.Precision(),tf.keras.metrics.Recall()])"
   ]
  },
  {
   "cell_type": "code",
   "execution_count": 8,
   "id": "1e760a6a",
   "metadata": {
    "scrolled": true
   },
   "outputs": [
    {
     "name": "stdout",
     "output_type": "stream",
     "text": [
      "Epoch 1/30\n",
      "956/956 [==============================] - 2733s 3s/step - loss: 0.3202 - acc: 0.8564 - true_positives: 7909.0000 - true_negatives: 18288.0000 - false_positives: 2191.0000 - false_negatives: 2203.0000 - precision: 0.7831 - recall: 0.7821 - val_loss: 0.1610 - val_acc: 0.9379 - val_true_positives: 2837.0000 - val_true_negatives: 6316.0000 - val_false_positives: 427.0000 - val_false_negatives: 179.0000 - val_precision: 0.8692 - val_recall: 0.9406\n",
      "Epoch 2/30\n",
      "956/956 [==============================] - 1338s 1s/step - loss: 0.1366 - acc: 0.9466 - true_positives: 9318.0000 - true_negatives: 19640.0000 - false_positives: 839.0000 - false_negatives: 794.0000 - precision: 0.9174 - recall: 0.9215 - val_loss: 0.1233 - val_acc: 0.9495 - val_true_positives: 2990.0000 - val_true_negatives: 6276.0000 - val_false_positives: 467.0000 - val_false_negatives: 26.0000 - val_precision: 0.8649 - val_recall: 0.9914\n",
      "Epoch 3/30\n",
      "956/956 [==============================] - 1340s 1s/step - loss: 0.0870 - acc: 0.9691 - true_positives: 9665.0000 - true_negatives: 19982.0000 - false_positives: 497.0000 - false_negatives: 447.0000 - precision: 0.9511 - recall: 0.9558 - val_loss: 0.0650 - val_acc: 0.9779 - val_true_positives: 2978.0000 - val_true_negatives: 6565.0000 - val_false_positives: 178.0000 - val_false_negatives: 38.0000 - val_precision: 0.9436 - val_recall: 0.9874\n",
      "Epoch 4/30\n",
      "956/956 [==============================] - 1351s 1s/step - loss: 0.0702 - acc: 0.9771 - true_positives: 9782.0000 - true_negatives: 20107.0000 - false_positives: 372.0000 - false_negatives: 330.0000 - precision: 0.9634 - recall: 0.9674 - val_loss: 0.1200 - val_acc: 0.9531 - val_true_positives: 2988.0000 - val_true_negatives: 6313.0000 - val_false_positives: 430.0000 - val_false_negatives: 28.0000 - val_precision: 0.8742 - val_recall: 0.9907\n",
      "Epoch 5/30\n",
      "956/956 [==============================] - 1343s 1s/step - loss: 0.0573 - acc: 0.9821 - true_positives: 9853.0000 - true_negatives: 20191.0000 - false_positives: 288.0000 - false_negatives: 259.0000 - precision: 0.9716 - recall: 0.9744 - val_loss: 0.0446 - val_acc: 0.9851 - val_true_positives: 2975.0000 - val_true_negatives: 6639.0000 - val_false_positives: 104.0000 - val_false_negatives: 41.0000 - val_precision: 0.9662 - val_recall: 0.9864\n",
      "Epoch 6/30\n",
      "956/956 [==============================] - 1342s 1s/step - loss: 0.0503 - acc: 0.9850 - true_positives: 9899.0000 - true_negatives: 20233.0000 - false_positives: 246.0000 - false_negatives: 213.0000 - precision: 0.9758 - recall: 0.9789 - val_loss: 0.0364 - val_acc: 0.9879 - val_true_positives: 2941.0000 - val_true_negatives: 6700.0000 - val_false_positives: 43.0000 - val_false_negatives: 75.0000 - val_precision: 0.9856 - val_recall: 0.9751\n",
      "Epoch 7/30\n",
      "956/956 [==============================] - 1343s 1s/step - loss: 0.0456 - acc: 0.9870 - true_positives: 9922.0000 - true_negatives: 20271.0000 - false_positives: 208.0000 - false_negatives: 190.0000 - precision: 0.9795 - recall: 0.9812 - val_loss: 0.0370 - val_acc: 0.9880 - val_true_positives: 2926.0000 - val_true_negatives: 6716.0000 - val_false_positives: 27.0000 - val_false_negatives: 90.0000 - val_precision: 0.9909 - val_recall: 0.9702\n",
      "Epoch 8/30\n",
      "956/956 [==============================] - 1338s 1s/step - loss: 0.0394 - acc: 0.9890 - true_positives: 9955.0000 - true_negatives: 20299.0000 - false_positives: 180.0000 - false_negatives: 157.0000 - precision: 0.9822 - recall: 0.9845 - val_loss: 0.0396 - val_acc: 0.9875 - val_true_positives: 2923.0000 - val_true_negatives: 6714.0000 - val_false_positives: 29.0000 - val_false_negatives: 93.0000 - val_precision: 0.9902 - val_recall: 0.9692\n",
      "Epoch 9/30\n",
      "956/956 [==============================] - 1334s 1s/step - loss: 0.0379 - acc: 0.9905 - true_positives: 9970.0000 - true_negatives: 20330.0000 - false_positives: 149.0000 - false_negatives: 142.0000 - precision: 0.9853 - recall: 0.9860 - val_loss: 0.0304 - val_acc: 0.9904 - val_true_positives: 2979.0000 - val_true_negatives: 6686.0000 - val_false_positives: 57.0000 - val_false_negatives: 37.0000 - val_precision: 0.9812 - val_recall: 0.9877\n",
      "Epoch 10/30\n",
      "956/956 [==============================] - 1338s 1s/step - loss: 0.0355 - acc: 0.9916 - true_positives: 10000.0000 - true_negatives: 20335.0000 - false_positives: 144.0000 - false_negatives: 112.0000 - precision: 0.9858 - recall: 0.9889 - val_loss: 0.0297 - val_acc: 0.9914 - val_true_positives: 2960.0000 - val_true_negatives: 6715.0000 - val_false_positives: 28.0000 - val_false_negatives: 56.0000 - val_precision: 0.9906 - val_recall: 0.9814\n",
      "Epoch 11/30\n",
      "956/956 [==============================] - 1335s 1s/step - loss: 0.0331 - acc: 0.9920 - true_positives: 9992.0000 - true_negatives: 20354.0000 - false_positives: 125.0000 - false_negatives: 120.0000 - precision: 0.9876 - recall: 0.9881 - val_loss: 0.0601 - val_acc: 0.9807 - val_true_positives: 3007.0000 - val_true_negatives: 6564.0000 - val_false_positives: 179.0000 - val_false_negatives: 9.0000 - val_precision: 0.9438 - val_recall: 0.9970\n",
      "Epoch 12/30\n",
      "956/956 [==============================] - 1336s 1s/step - loss: 0.0324 - acc: 0.9933 - true_positives: 10019.0000 - true_negatives: 20366.0000 - false_positives: 113.0000 - false_negatives: 93.0000 - precision: 0.9888 - recall: 0.9908 - val_loss: 0.0310 - val_acc: 0.9920 - val_true_positives: 2991.0000 - val_true_negatives: 6690.0000 - val_false_positives: 53.0000 - val_false_negatives: 25.0000 - val_precision: 0.9826 - val_recall: 0.9917\n",
      "Epoch 13/30\n",
      "956/956 [==============================] - 1337s 1s/step - loss: 0.0307 - acc: 0.9931 - true_positives: 10008.0000 - true_negatives: 20372.0000 - false_positives: 107.0000 - false_negatives: 104.0000 - precision: 0.9894 - recall: 0.9897 - val_loss: 0.0260 - val_acc: 0.9920 - val_true_positives: 2995.0000 - val_true_negatives: 6686.0000 - val_false_positives: 57.0000 - val_false_negatives: 21.0000 - val_precision: 0.9813 - val_recall: 0.9930\n",
      "Epoch 14/30\n",
      "956/956 [==============================] - 1339s 1s/step - loss: 0.0283 - acc: 0.9931 - true_positives: 10019.0000 - true_negatives: 20360.0000 - false_positives: 119.0000 - false_negatives: 93.0000 - precision: 0.9883 - recall: 0.9908 - val_loss: 0.0575 - val_acc: 0.9851 - val_true_positives: 2993.0000 - val_true_negatives: 6621.0000 - val_false_positives: 122.0000 - val_false_negatives: 23.0000 - val_precision: 0.9608 - val_recall: 0.9924\n",
      "Epoch 15/30\n",
      "956/956 [==============================] - 1340s 1s/step - loss: 0.0250 - acc: 0.9948 - true_positives: 10040.0000 - true_negatives: 20393.0000 - false_positives: 86.0000 - false_negatives: 72.0000 - precision: 0.9915 - recall: 0.9929 - val_loss: 0.0311 - val_acc: 0.9912 - val_true_positives: 2945.0000 - val_true_negatives: 6728.0000 - val_false_positives: 15.0000 - val_false_negatives: 71.0000 - val_precision: 0.9949 - val_recall: 0.9765\n",
      "Epoch 16/30\n",
      "956/956 [==============================] - 1342s 1s/step - loss: 0.0234 - acc: 0.9950 - true_positives: 10041.0000 - true_negatives: 20397.0000 - false_positives: 82.0000 - false_negatives: 71.0000 - precision: 0.9919 - recall: 0.9930 - val_loss: 0.0256 - val_acc: 0.9941 - val_true_positives: 2981.0000 - val_true_negatives: 6720.0000 - val_false_positives: 23.0000 - val_false_negatives: 35.0000 - val_precision: 0.9923 - val_recall: 0.9884\n",
      "Epoch 17/30\n",
      "956/956 [==============================] - 1340s 1s/step - loss: 0.0235 - acc: 0.9950 - true_positives: 10039.0000 - true_negatives: 20398.0000 - false_positives: 81.0000 - false_negatives: 73.0000 - precision: 0.9920 - recall: 0.9928 - val_loss: 0.0365 - val_acc: 0.9913 - val_true_positives: 3003.0000 - val_true_negatives: 6671.0000 - val_false_positives: 72.0000 - val_false_negatives: 13.0000 - val_precision: 0.9766 - val_recall: 0.9957\n",
      "Epoch 18/30\n",
      "956/956 [==============================] - 19276s 20s/step - loss: 0.0270 - acc: 0.9944 - true_positives: 10034.0000 - true_negatives: 20386.0000 - false_positives: 93.0000 - false_negatives: 78.0000 - precision: 0.9908 - recall: 0.9923 - val_loss: 0.0526 - val_acc: 0.9888 - val_true_positives: 3008.0000 - val_true_negatives: 6642.0000 - val_false_positives: 101.0000 - val_false_negatives: 8.0000 - val_precision: 0.9675 - val_recall: 0.9973\n"
     ]
    },
    {
     "name": "stdout",
     "output_type": "stream",
     "text": [
      "Epoch 19/30\n",
      "956/956 [==============================] - 1558s 2s/step - loss: 0.0235 - acc: 0.9954 - true_positives: 10050.0000 - true_negatives: 20401.0000 - false_positives: 78.0000 - false_negatives: 62.0000 - precision: 0.9923 - recall: 0.9939 - val_loss: 0.0572 - val_acc: 0.9861 - val_true_positives: 2900.0000 - val_true_negatives: 6723.0000 - val_false_positives: 20.0000 - val_false_negatives: 116.0000 - val_precision: 0.9932 - val_recall: 0.9615\n",
      "Epoch 20/30\n",
      "956/956 [==============================] - 1314s 1s/step - loss: 0.0208 - acc: 0.9953 - true_positives: 10043.0000 - true_negatives: 20403.0000 - false_positives: 76.0000 - false_negatives: 69.0000 - precision: 0.9925 - recall: 0.9932 - val_loss: 0.0292 - val_acc: 0.9928 - val_true_positives: 2983.0000 - val_true_negatives: 6706.0000 - val_false_positives: 37.0000 - val_false_negatives: 33.0000 - val_precision: 0.9877 - val_recall: 0.9891\n",
      "Epoch 21/30\n",
      "956/956 [==============================] - 1325s 1s/step - loss: 0.0202 - acc: 0.9959 - true_positives: 10053.0000 - true_negatives: 20412.0000 - false_positives: 67.0000 - false_negatives: 59.0000 - precision: 0.9934 - recall: 0.9942 - val_loss: 0.0325 - val_acc: 0.9926 - val_true_positives: 2965.0000 - val_true_negatives: 6722.0000 - val_false_positives: 21.0000 - val_false_negatives: 51.0000 - val_precision: 0.9930 - val_recall: 0.9831\n",
      "Epoch 22/30\n",
      "956/956 [==============================] - 1323s 1s/step - loss: 0.0261 - acc: 0.9957 - true_positives: 10057.0000 - true_negatives: 20402.0000 - false_positives: 77.0000 - false_negatives: 55.0000 - precision: 0.9924 - recall: 0.9946 - val_loss: 0.0300 - val_acc: 0.9932 - val_true_positives: 2997.0000 - val_true_negatives: 6696.0000 - val_false_positives: 47.0000 - val_false_negatives: 19.0000 - val_precision: 0.9846 - val_recall: 0.9937\n",
      "Epoch 23/30\n",
      "956/956 [==============================] - 1324s 1s/step - loss: 0.0209 - acc: 0.9959 - true_positives: 10052.0000 - true_negatives: 20413.0000 - false_positives: 66.0000 - false_negatives: 60.0000 - precision: 0.9935 - recall: 0.9941 - val_loss: 0.0331 - val_acc: 0.9931 - val_true_positives: 2985.0000 - val_true_negatives: 6707.0000 - val_false_positives: 36.0000 - val_false_negatives: 31.0000 - val_precision: 0.9881 - val_recall: 0.9897\n",
      "Epoch 24/30\n",
      "956/956 [==============================] - 1331s 1s/step - loss: 0.0196 - acc: 0.9957 - true_positives: 10055.0000 - true_negatives: 20405.0000 - false_positives: 74.0000 - false_negatives: 57.0000 - precision: 0.9927 - recall: 0.9944 - val_loss: 0.0375 - val_acc: 0.9931 - val_true_positives: 2977.0000 - val_true_negatives: 6715.0000 - val_false_positives: 28.0000 - val_false_negatives: 39.0000 - val_precision: 0.9907 - val_recall: 0.9871\n",
      "Epoch 25/30\n",
      "956/956 [==============================] - 1332s 1s/step - loss: 0.0231 - acc: 0.9954 - true_positives: 10049.0000 - true_negatives: 20402.0000 - false_positives: 77.0000 - false_negatives: 63.0000 - precision: 0.9924 - recall: 0.9938 - val_loss: 0.0310 - val_acc: 0.9927 - val_true_positives: 2979.0000 - val_true_negatives: 6709.0000 - val_false_positives: 34.0000 - val_false_negatives: 37.0000 - val_precision: 0.9887 - val_recall: 0.9877\n",
      "Epoch 26/30\n",
      "956/956 [==============================] - 1333s 1s/step - loss: 0.0224 - acc: 0.9962 - true_positives: 10055.0000 - true_negatives: 20420.0000 - false_positives: 59.0000 - false_negatives: 57.0000 - precision: 0.9942 - recall: 0.9944 - val_loss: 0.0364 - val_acc: 0.9915 - val_true_positives: 2986.0000 - val_true_negatives: 6690.0000 - val_false_positives: 53.0000 - val_false_negatives: 30.0000 - val_precision: 0.9826 - val_recall: 0.9901\n",
      "Epoch 27/30\n",
      "956/956 [==============================] - 1332s 1s/step - loss: 0.0189 - acc: 0.9960 - true_positives: 10054.0000 - true_negatives: 20416.0000 - false_positives: 63.0000 - false_negatives: 58.0000 - precision: 0.9938 - recall: 0.9943 - val_loss: 0.0740 - val_acc: 0.9874 - val_true_positives: 2992.0000 - val_true_negatives: 6644.0000 - val_false_positives: 99.0000 - val_false_negatives: 24.0000 - val_precision: 0.9680 - val_recall: 0.9920\n",
      "Epoch 28/30\n",
      "956/956 [==============================] - 1335s 1s/step - loss: 0.0196 - acc: 0.9960 - true_positives: 10057.0000 - true_negatives: 20412.0000 - false_positives: 67.0000 - false_negatives: 55.0000 - precision: 0.9934 - recall: 0.9946 - val_loss: 0.0335 - val_acc: 0.9936 - val_true_positives: 2980.0000 - val_true_negatives: 6717.0000 - val_false_positives: 26.0000 - val_false_negatives: 36.0000 - val_precision: 0.9914 - val_recall: 0.9881\n",
      "Epoch 29/30\n",
      "956/956 [==============================] - 1336s 1s/step - loss: 0.0222 - acc: 0.9961 - true_positives: 10056.0000 - true_negatives: 20417.0000 - false_positives: 62.0000 - false_negatives: 56.0000 - precision: 0.9939 - recall: 0.9945 - val_loss: 0.0358 - val_acc: 0.9934 - val_true_positives: 2974.0000 - val_true_negatives: 6721.0000 - val_false_positives: 22.0000 - val_false_negatives: 42.0000 - val_precision: 0.9927 - val_recall: 0.9861\n",
      "Epoch 30/30\n",
      "956/956 [==============================] - 1335s 1s/step - loss: 0.0227 - acc: 0.9960 - true_positives: 10058.0000 - true_negatives: 20410.0000 - false_positives: 69.0000 - false_negatives: 54.0000 - precision: 0.9932 - recall: 0.9947 - val_loss: 0.0369 - val_acc: 0.9935 - val_true_positives: 2976.0000 - val_true_negatives: 6720.0000 - val_false_positives: 23.0000 - val_false_negatives: 40.0000 - val_precision: 0.9923 - val_recall: 0.9867\n"
     ]
    }
   ],
   "source": [
    "history  = model.fit(\n",
    "train_generator,\n",
    "epochs=30,\n",
    "validation_data=validation_generator,\n",
    ")"
   ]
  },
  {
   "cell_type": "code",
   "execution_count": 9,
   "id": "d3fa8d2f",
   "metadata": {},
   "outputs": [],
   "source": [
    "model.save(\"leaf_disease_detection_12.h5\")"
   ]
  },
  {
   "cell_type": "code",
   "execution_count": 10,
   "id": "399f21a6",
   "metadata": {},
   "outputs": [
    {
     "data": {
      "image/png": "[encoded data removed]",
      "text/plain": [
       "<Figure size 432x288 with 1 Axes>"
      ]
     },
     "metadata": {
      "needs_background": "light"
     },
     "output_type": "display_data"
    }
   ],
   "source": [
    "plt.plot(history.history['loss'], label='train loss')\n",
    "plt.plot(history.history['val_loss'], label='val loss')\n",
    "plt.plot(history.history['acc'], label='train acc')\n",
    "plt.plot(history.history['val_acc'], label='val acc')\n",
    "plt.legend()\n",
    "plt.show()\n"
   ]
  },
  {
   "cell_type": "code",
   "execution_count": 11,
   "id": "a2860c26",
   "metadata": {},
   "outputs": [
    {
     "name": "stdout",
     "output_type": "stream",
     "text": [
      "Found 8448 images belonging to 2 classes.\n"
     ]
    }
   ],
   "source": [
    "test_dir = r'E:\\Minor Project\\PlantVillage(1)\\test'\n",
    "test_datagen = ImageDataGenerator(rescale=1./255)\n",
    "\n",
    "test_generator = test_datagen.flow_from_directory (\n",
    "                test_dir,\n",
    "                target_size=(256,256),\n",
    "                batch_size=32,\n",
    "                class_mode=\"binary\")"
   ]
  },
  {
   "cell_type": "code",
   "execution_count": 12,
   "id": "e84ec3c0",
   "metadata": {},
   "outputs": [
    {
     "name": "stderr",
     "output_type": "stream",
     "text": [
      "C:\\Users\\asus\\anaconda3\\lib\\site-packages\\keras\\engine\\training.py:2006: UserWarning: `Model.evaluate_generator` is deprecated and will be removed in a future version. Please use `Model.evaluate`, which supports generators.\n",
      "  warnings.warn('`Model.evaluate_generator` is deprecated and '\n"
     ]
    },
    {
     "data": {
      "text/plain": [
       "[0.03614535182714462,\n",
       " 0.9939630627632141,\n",
       " 1925.0,\n",
       " 6472.0,\n",
       " 20.0,\n",
       " 31.0,\n",
       " 0.9897172451019287,\n",
       " 0.984151303768158]"
      ]
     },
     "execution_count": 12,
     "metadata": {},
     "output_type": "execute_result"
    }
   ],
   "source": [
    "model.evaluate_generator(test_generator)"
   ]
  },
  {
   "cell_type": "code",
   "execution_count": null,
   "id": "17f8a77d",
   "metadata": {},
   "outputs": [],
   "source": []
  }
 ],
 "metadata": {
  "kernelspec": {
   "display_name": "Python 3",
   "language": "python",
   "name": "python3"
  },
  "language_info": {
   "codemirror_mode": {
    "name": "ipython",
    "version": 3
   },
   "file_extension": ".py",
   "mimetype": "text/x-python",
   "name": "python",
   "nbconvert_exporter": "python",
   "pygments_lexer": "ipython3",
   "version": "3.8.8"
  }
 },
 "nbformat": 4,
 "nbformat_minor": 5
}
