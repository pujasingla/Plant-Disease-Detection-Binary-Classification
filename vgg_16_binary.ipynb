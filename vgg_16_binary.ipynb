{
  "nbformat": 4,
  "nbformat_minor": 0,
  "metadata": {
    "colab": {
      "name": "vgg 16 binary.ipynb",
      "provenance": [],
      "collapsed_sections": []
    },
    "kernelspec": {
      "name": "python3",
      "display_name": "Python 3"
    },
    "language_info": {
      "name": "python"
    },
    "accelerator": "GPU"
  },
  "cells": [
    {
      "cell_type": "code",
      "source": [
        "from google.colab import drive\n",
        "drive.mount('/content/drive/')"
      ],
      "metadata": {
        "colab": {
          "base_uri": "https://localhost:8080/"
        },
        "id": "V2yLutDT6lGN",
        "outputId": "2149273b-b334-4c97-f8b3-e14e2117bef0"
      },
      "execution_count": null,
      "outputs": [
        {
          "output_type": "stream",
          "name": "stdout",
          "text": [
            "Mounted at /content/drive/\n"
          ]
        }
      ]
    },
    {
      "cell_type": "code",
      "source": [
        "from tensorflow.compat.v1 import ConfigProto\n",
        "from tensorflow.compat.v1 import InteractiveSession\n",
        "\n",
        "config = ConfigProto()\n",
        "config.gpu_options.allow_growth = True\n",
        "session = InteractiveSession(config=config)"
      ],
      "metadata": {
        "id": "HhUX6xN6BH_h"
      },
      "execution_count": null,
      "outputs": []
    },
    {
      "cell_type": "code",
      "source": [
        "!pip install tensorflow-gpu"
      ],
      "metadata": {
        "colab": {
          "base_uri": "https://localhost:8080/",
          "height": 938
        },
        "id": "KohLCbIc9obX",
        "outputId": "3b141138-b881-4d2b-db8f-230bf5491f59"
      },
      "execution_count": null,
      "outputs": [
        {
          "output_type": "stream",
          "name": "stdout",
          "text": [
            "Collecting tensorflow-gpu\n",
            "  Downloading tensorflow_gpu-2.7.0-cp37-cp37m-manylinux2010_x86_64.whl (489.6 MB)\n",
            "\u001b[K     |████████████████████████████████| 489.6 MB 23 kB/s \n",
            "\u001b[?25hRequirement already satisfied: wheel<1.0,>=0.32.0 in /usr/local/lib/python3.7/dist-packages (from tensorflow-gpu) (0.37.1)\n",
            "Requirement already satisfied: numpy>=1.14.5 in /usr/local/lib/python3.7/dist-packages (from tensorflow-gpu) (1.19.5)\n",
            "Requirement already satisfied: gast<0.5.0,>=0.2.1 in /usr/local/lib/python3.7/dist-packages (from tensorflow-gpu) (0.4.0)\n",
            "Requirement already satisfied: tensorflow-io-gcs-filesystem>=0.21.0 in /usr/local/lib/python3.7/dist-packages (from tensorflow-gpu) (0.23.1)\n",
            "Requirement already satisfied: tensorflow-estimator<2.8,~=2.7.0rc0 in /usr/local/lib/python3.7/dist-packages (from tensorflow-gpu) (2.7.0)\n",
            "Requirement already satisfied: keras<2.8,>=2.7.0rc0 in /usr/local/lib/python3.7/dist-packages (from tensorflow-gpu) (2.7.0)\n",
            "Requirement already satisfied: keras-preprocessing>=1.1.1 in /usr/local/lib/python3.7/dist-packages (from tensorflow-gpu) (1.1.2)\n",
            "Requirement already satisfied: libclang>=9.0.1 in /usr/local/lib/python3.7/dist-packages (from tensorflow-gpu) (12.0.0)\n",
            "Requirement already satisfied: google-pasta>=0.1.1 in /usr/local/lib/python3.7/dist-packages (from tensorflow-gpu) (0.2.0)\n",
            "Requirement already satisfied: flatbuffers<3.0,>=1.12 in /usr/local/lib/python3.7/dist-packages (from tensorflow-gpu) (2.0)\n",
            "Requirement already satisfied: tensorboard~=2.6 in /usr/local/lib/python3.7/dist-packages (from tensorflow-gpu) (2.7.0)\n",
            "Requirement already satisfied: astunparse>=1.6.0 in /usr/local/lib/python3.7/dist-packages (from tensorflow-gpu) (1.6.3)\n",
            "Requirement already satisfied: typing-extensions>=3.6.6 in /usr/local/lib/python3.7/dist-packages (from tensorflow-gpu) (3.10.0.2)\n",
            "Requirement already satisfied: six>=1.12.0 in /usr/local/lib/python3.7/dist-packages (from tensorflow-gpu) (1.15.0)\n",
            "Requirement already satisfied: h5py>=2.9.0 in /usr/local/lib/python3.7/dist-packages (from tensorflow-gpu) (3.1.0)\n",
            "Requirement already satisfied: absl-py>=0.4.0 in /usr/local/lib/python3.7/dist-packages (from tensorflow-gpu) (1.0.0)\n",
            "Requirement already satisfied: termcolor>=1.1.0 in /usr/local/lib/python3.7/dist-packages (from tensorflow-gpu) (1.1.0)\n",
            "Requirement already satisfied: protobuf>=3.9.2 in /usr/local/lib/python3.7/dist-packages (from tensorflow-gpu) (3.17.3)\n",
            "Requirement already satisfied: grpcio<2.0,>=1.24.3 in /usr/local/lib/python3.7/dist-packages (from tensorflow-gpu) (1.43.0)\n",
            "Requirement already satisfied: wrapt>=1.11.0 in /usr/local/lib/python3.7/dist-packages (from tensorflow-gpu) (1.13.3)\n",
            "Requirement already satisfied: opt-einsum>=2.3.2 in /usr/local/lib/python3.7/dist-packages (from tensorflow-gpu) (3.3.0)\n",
            "Requirement already satisfied: cached-property in /usr/local/lib/python3.7/dist-packages (from h5py>=2.9.0->tensorflow-gpu) (1.5.2)\n",
            "Requirement already satisfied: markdown>=2.6.8 in /usr/local/lib/python3.7/dist-packages (from tensorboard~=2.6->tensorflow-gpu) (3.3.6)\n",
            "Requirement already satisfied: google-auth-oauthlib<0.5,>=0.4.1 in /usr/local/lib/python3.7/dist-packages (from tensorboard~=2.6->tensorflow-gpu) (0.4.6)\n",
            "Requirement already satisfied: tensorboard-data-server<0.7.0,>=0.6.0 in /usr/local/lib/python3.7/dist-packages (from tensorboard~=2.6->tensorflow-gpu) (0.6.1)\n",
            "Requirement already satisfied: tensorboard-plugin-wit>=1.6.0 in /usr/local/lib/python3.7/dist-packages (from tensorboard~=2.6->tensorflow-gpu) (1.8.1)\n",
            "Requirement already satisfied: werkzeug>=0.11.15 in /usr/local/lib/python3.7/dist-packages (from tensorboard~=2.6->tensorflow-gpu) (1.0.1)\n",
            "Requirement already satisfied: google-auth<3,>=1.6.3 in /usr/local/lib/python3.7/dist-packages (from tensorboard~=2.6->tensorflow-gpu) (1.35.0)\n",
            "Requirement already satisfied: requests<3,>=2.21.0 in /usr/local/lib/python3.7/dist-packages (from tensorboard~=2.6->tensorflow-gpu) (2.23.0)\n",
            "Requirement already satisfied: setuptools>=41.0.0 in /usr/local/lib/python3.7/dist-packages (from tensorboard~=2.6->tensorflow-gpu) (57.4.0)\n",
            "Requirement already satisfied: pyasn1-modules>=0.2.1 in /usr/local/lib/python3.7/dist-packages (from google-auth<3,>=1.6.3->tensorboard~=2.6->tensorflow-gpu) (0.2.8)\n",
            "Requirement already satisfied: cachetools<5.0,>=2.0.0 in /usr/local/lib/python3.7/dist-packages (from google-auth<3,>=1.6.3->tensorboard~=2.6->tensorflow-gpu) (4.2.4)\n",
            "Requirement already satisfied: rsa<5,>=3.1.4 in /usr/local/lib/python3.7/dist-packages (from google-auth<3,>=1.6.3->tensorboard~=2.6->tensorflow-gpu) (4.8)\n",
            "Requirement already satisfied: requests-oauthlib>=0.7.0 in /usr/local/lib/python3.7/dist-packages (from google-auth-oauthlib<0.5,>=0.4.1->tensorboard~=2.6->tensorflow-gpu) (1.3.0)\n",
            "Requirement already satisfied: importlib-metadata>=4.4 in /usr/local/lib/python3.7/dist-packages (from markdown>=2.6.8->tensorboard~=2.6->tensorflow-gpu) (4.10.1)\n",
            "Requirement already satisfied: zipp>=0.5 in /usr/local/lib/python3.7/dist-packages (from importlib-metadata>=4.4->markdown>=2.6.8->tensorboard~=2.6->tensorflow-gpu) (3.7.0)\n",
            "Requirement already satisfied: pyasn1<0.5.0,>=0.4.6 in /usr/local/lib/python3.7/dist-packages (from pyasn1-modules>=0.2.1->google-auth<3,>=1.6.3->tensorboard~=2.6->tensorflow-gpu) (0.4.8)\n",
            "Requirement already satisfied: chardet<4,>=3.0.2 in /usr/local/lib/python3.7/dist-packages (from requests<3,>=2.21.0->tensorboard~=2.6->tensorflow-gpu) (3.0.4)\n",
            "Requirement already satisfied: urllib3!=1.25.0,!=1.25.1,<1.26,>=1.21.1 in /usr/local/lib/python3.7/dist-packages (from requests<3,>=2.21.0->tensorboard~=2.6->tensorflow-gpu) (1.24.3)\n",
            "Requirement already satisfied: certifi>=2017.4.17 in /usr/local/lib/python3.7/dist-packages (from requests<3,>=2.21.0->tensorboard~=2.6->tensorflow-gpu) (2021.10.8)\n",
            "Requirement already satisfied: idna<3,>=2.5 in /usr/local/lib/python3.7/dist-packages (from requests<3,>=2.21.0->tensorboard~=2.6->tensorflow-gpu) (2.10)\n",
            "Requirement already satisfied: oauthlib>=3.0.0 in /usr/local/lib/python3.7/dist-packages (from requests-oauthlib>=0.7.0->google-auth-oauthlib<0.5,>=0.4.1->tensorboard~=2.6->tensorflow-gpu) (3.1.1)\n",
            "Installing collected packages: tensorflow-gpu\n",
            "Successfully installed tensorflow-gpu-2.7.0\n"
          ]
        },
        {
          "output_type": "display_data",
          "data": {
            "application/vnd.colab-display-data+json": {
              "pip_warning": {
                "packages": [
                  "tensorflow"
                ]
              }
            }
          },
          "metadata": {}
        }
      ]
    },
    {
      "cell_type": "code",
      "source": [
        "import numpy as np\n",
        "import pandas as pd\n",
        "import matplotlib.pyplot as plt\n",
        "import os\n",
        "\n",
        "from tensorflow.keras.layers import Input, Lambda, Dense, Flatten\n",
        "from tensorflow.keras.models import Model\n",
        "from keras.applications.vgg16 import VGG16\n",
        "from tensorflow.keras.applications.vgg16 import preprocess_input\n",
        "from tensorflow.keras.preprocessing import image\n",
        "from tensorflow.keras.preprocessing.image import ImageDataGenerator,load_img\n",
        "from tensorflow.keras.models import Sequential\n",
        "import numpy as np\n",
        "from glob import glob\n",
        "import matplotlib.pyplot as plt"
      ],
      "metadata": {
        "id": "9E9w07JF6lIw"
      },
      "execution_count": null,
      "outputs": []
    },
    {
      "cell_type": "code",
      "source": [
        "IMAGE_SIZE = [256, 256]\n",
        "\n",
        "train_path = '/content/drive/MyDrive/Datasets/PlantVillage(1)/train'\n",
        "valid_path = '/content/drive/MyDrive/Datasets/PlantVillage(1)/val'"
      ],
      "metadata": {
        "id": "OL0RtbuD6lPz"
      },
      "execution_count": null,
      "outputs": []
    },
    {
      "cell_type": "code",
      "source": [
        "vgg = VGG16(input_shape=IMAGE_SIZE + [3], weights='imagenet', include_top=False)\n",
        "vgg.output"
      ],
      "metadata": {
        "colab": {
          "base_uri": "https://localhost:8080/"
        },
        "id": "-ysZdk7D6lU8",
        "outputId": "9d10d3d9-ff87-4ac2-e5a6-4eadba6d9482"
      },
      "execution_count": null,
      "outputs": [
        {
          "output_type": "stream",
          "name": "stdout",
          "text": [
            "Downloading data from https://storage.googleapis.com/tensorflow/keras-applications/vgg16/vgg16_weights_tf_dim_ordering_tf_kernels_notop.h5\n",
            "58892288/58889256 [==============================] - 0s 0us/step\n",
            "58900480/58889256 [==============================] - 0s 0us/step\n"
          ]
        },
        {
          "output_type": "execute_result",
          "data": {
            "text/plain": [
              "<KerasTensor: shape=(None, 8, 8, 512) dtype=float32 (created by layer 'block5_pool')>"
            ]
          },
          "metadata": {},
          "execution_count": 6
        }
      ]
    },
    {
      "cell_type": "code",
      "source": [
        "for layer in vgg.layers:\n",
        "    layer.trainable = False"
      ],
      "metadata": {
        "id": "oKqrEjnq6lke"
      },
      "execution_count": null,
      "outputs": []
    },
    {
      "cell_type": "code",
      "source": [
        "x = Flatten()(vgg.output)"
      ],
      "metadata": {
        "id": "P4QeHdeu6lnC"
      },
      "execution_count": null,
      "outputs": []
    },
    {
      "cell_type": "code",
      "source": [
        "prediction = Dense(1, activation='sigmoid')(x)\n",
        "\n",
        "# create a model object\n",
        "model = Model(inputs=vgg.input, outputs=prediction)"
      ],
      "metadata": {
        "id": "l2oy9_9C6lpt"
      },
      "execution_count": null,
      "outputs": []
    },
    {
      "cell_type": "code",
      "source": [
        "model.summary()"
      ],
      "metadata": {
        "colab": {
          "base_uri": "https://localhost:8080/"
        },
        "id": "lUX-qcwZ6luQ",
        "outputId": "532578e4-99b6-405f-917e-0a960bf50e2b"
      },
      "execution_count": null,
      "outputs": [
        {
          "output_type": "stream",
          "name": "stdout",
          "text": [
            "Model: \"model\"\n",
            "_________________________________________________________________\n",
            " Layer (type)                Output Shape              Param #   \n",
            "=================================================================\n",
            " input_1 (InputLayer)        [(None, 256, 256, 3)]     0         \n",
            "                                                                 \n",
            " block1_conv1 (Conv2D)       (None, 256, 256, 64)      1792      \n",
            "                                                                 \n",
            " block1_conv2 (Conv2D)       (None, 256, 256, 64)      36928     \n",
            "                                                                 \n",
            " block1_pool (MaxPooling2D)  (None, 128, 128, 64)      0         \n",
            "                                                                 \n",
            " block2_conv1 (Conv2D)       (None, 128, 128, 128)     73856     \n",
            "                                                                 \n",
            " block2_conv2 (Conv2D)       (None, 128, 128, 128)     147584    \n",
            "                                                                 \n",
            " block2_pool (MaxPooling2D)  (None, 64, 64, 128)       0         \n",
            "                                                                 \n",
            " block3_conv1 (Conv2D)       (None, 64, 64, 256)       295168    \n",
            "                                                                 \n",
            " block3_conv2 (Conv2D)       (None, 64, 64, 256)       590080    \n",
            "                                                                 \n",
            " block3_conv3 (Conv2D)       (None, 64, 64, 256)       590080    \n",
            "                                                                 \n",
            " block3_pool (MaxPooling2D)  (None, 32, 32, 256)       0         \n",
            "                                                                 \n",
            " block4_conv1 (Conv2D)       (None, 32, 32, 512)       1180160   \n",
            "                                                                 \n",
            " block4_conv2 (Conv2D)       (None, 32, 32, 512)       2359808   \n",
            "                                                                 \n",
            " block4_conv3 (Conv2D)       (None, 32, 32, 512)       2359808   \n",
            "                                                                 \n",
            " block4_pool (MaxPooling2D)  (None, 16, 16, 512)       0         \n",
            "                                                                 \n",
            " block5_conv1 (Conv2D)       (None, 16, 16, 512)       2359808   \n",
            "                                                                 \n",
            " block5_conv2 (Conv2D)       (None, 16, 16, 512)       2359808   \n",
            "                                                                 \n",
            " block5_conv3 (Conv2D)       (None, 16, 16, 512)       2359808   \n",
            "                                                                 \n",
            " block5_pool (MaxPooling2D)  (None, 8, 8, 512)         0         \n",
            "                                                                 \n",
            " flatten (Flatten)           (None, 32768)             0         \n",
            "                                                                 \n",
            " dense (Dense)               (None, 1)                 32769     \n",
            "                                                                 \n",
            "=================================================================\n",
            "Total params: 14,747,457\n",
            "Trainable params: 32,769\n",
            "Non-trainable params: 14,714,688\n",
            "_________________________________________________________________\n"
          ]
        }
      ]
    },
    {
      "cell_type": "code",
      "source": [
        "import tensorflow as tf\n",
        "from tensorflow.keras import optimizers\n",
        "\n",
        "model.compile (loss = 'binary_crossentropy',\n",
        "              optimizer = optimizers.RMSprop(learning_rate=1e-4),\n",
        "              metrics=['acc',tf.keras.metrics.TruePositives(),tf.keras.metrics.TrueNegatives(),tf.keras.metrics.FalsePositives(),tf.keras.metrics.FalseNegatives(),tf.keras.metrics.Precision(),tf.keras.metrics.Recall()])"
      ],
      "metadata": {
        "id": "6hb9zEK39-6X"
      },
      "execution_count": null,
      "outputs": []
    },
    {
      "cell_type": "code",
      "source": [
        "from tensorflow.keras.preprocessing.image import ImageDataGenerator\n",
        "\n",
        "train_datagen = ImageDataGenerator(rescale = 1./255,preprocessing_function=preprocess_input)\n",
        "\n",
        "test_datagen = ImageDataGenerator(rescale = 1./255,preprocessing_function=preprocess_input)"
      ],
      "metadata": {
        "id": "UDxRkePU9-9Y"
      },
      "execution_count": null,
      "outputs": []
    },
    {
      "cell_type": "code",
      "source": [
        "training_set = train_datagen.flow_from_directory(train_path,\n",
        "                                                 \n",
        "                                                 target_size = (256, 256),\n",
        "                                                 batch_size = 32,\n",
        "                                                 class_mode = 'binary')"
      ],
      "metadata": {
        "id": "IYSBmVcq9_AL",
        "colab": {
          "base_uri": "https://localhost:8080/"
        },
        "outputId": "509fbad0-6ca7-4ddb-cd88-2008013b15a7"
      },
      "execution_count": null,
      "outputs": [
        {
          "metadata": {
            "tags": null
          },
          "name": "stdout",
          "output_type": "stream",
          "text": [
            "Found 30591 images belonging to 2 classes.\n"
          ]
        }
      ]
    },
    {
      "cell_type": "code",
      "source": [
        "valid_set = test_datagen.flow_from_directory(valid_path,\n",
        "                                            target_size = (256, 256),\n",
        "                                            batch_size = 32,\n",
        "                                            class_mode = 'binary')"
      ],
      "metadata": {
        "id": "tIuXTwQh-R-U",
        "colab": {
          "base_uri": "https://localhost:8080/"
        },
        "outputId": "71d19b88-5d50-44c5-fa69-db102ad71be7"
      },
      "execution_count": null,
      "outputs": [
        {
          "output_type": "stream",
          "name": "stdout",
          "text": [
            "Found 9759 images belonging to 2 classes.\n"
          ]
        }
      ]
    },
    {
      "cell_type": "code",
      "source": [
        "r = model.fit(\n",
        "  training_set,\n",
        "  validation_data=valid_set,\n",
        "  epochs=25)"
      ],
      "metadata": {
        "id": "9vbuTnYr-SJy",
        "colab": {
          "base_uri": "https://localhost:8080/"
        },
        "outputId": "06da5082-7615-4fb2-f2fb-6fa3976de448"
      },
      "execution_count": null,
      "outputs": [
        {
          "output_type": "stream",
          "name": "stdout",
          "text": [
            "Epoch 1/25\n",
            "956/956 [==============================] - 5819s 6s/step - loss: 0.1816 - acc: 0.9340 - true_positives: 8857.0000 - true_negatives: 19715.0000 - false_positives: 764.0000 - false_negatives: 1255.0000 - precision: 0.9206 - recall: 0.8759 - val_loss: 0.1184 - val_acc: 0.9581 - val_true_positives: 2764.0000 - val_true_negatives: 6586.0000 - val_false_positives: 157.0000 - val_false_negatives: 252.0000 - val_precision: 0.9463 - val_recall: 0.9164\n",
            "Epoch 2/25\n",
            "956/956 [==============================] - 170s 178ms/step - loss: 0.0969 - acc: 0.9679 - true_positives: 9626.0000 - true_negatives: 19983.0000 - false_positives: 496.0000 - false_negatives: 486.0000 - precision: 0.9510 - recall: 0.9519 - val_loss: 0.0906 - val_acc: 0.9685 - val_true_positives: 2815.0000 - val_true_negatives: 6637.0000 - val_false_positives: 106.0000 - val_false_negatives: 201.0000 - val_precision: 0.9637 - val_recall: 0.9334\n",
            "Epoch 3/25\n",
            "956/956 [==============================] - 170s 178ms/step - loss: 0.0746 - acc: 0.9760 - true_positives: 9755.0000 - true_negatives: 20102.0000 - false_positives: 377.0000 - false_negatives: 357.0000 - precision: 0.9628 - recall: 0.9647 - val_loss: 0.0745 - val_acc: 0.9741 - val_true_positives: 2886.0000 - val_true_negatives: 6620.0000 - val_false_positives: 123.0000 - val_false_negatives: 130.0000 - val_precision: 0.9591 - val_recall: 0.9569\n",
            "Epoch 4/25\n",
            "956/956 [==============================] - 171s 179ms/step - loss: 0.0621 - acc: 0.9817 - true_positives: 9837.0000 - true_negatives: 20193.0000 - false_positives: 286.0000 - false_negatives: 275.0000 - precision: 0.9717 - recall: 0.9728 - val_loss: 0.0662 - val_acc: 0.9769 - val_true_positives: 2894.0000 - val_true_negatives: 6640.0000 - val_false_positives: 103.0000 - val_false_negatives: 122.0000 - val_precision: 0.9656 - val_recall: 0.9595\n",
            "Epoch 5/25\n",
            "956/956 [==============================] - 171s 179ms/step - loss: 0.0541 - acc: 0.9836 - true_positives: 9869.0000 - true_negatives: 20219.0000 - false_positives: 260.0000 - false_negatives: 243.0000 - precision: 0.9743 - recall: 0.9760 - val_loss: 0.0608 - val_acc: 0.9794 - val_true_positives: 2912.0000 - val_true_negatives: 6646.0000 - val_false_positives: 97.0000 - val_false_negatives: 104.0000 - val_precision: 0.9678 - val_recall: 0.9655\n",
            "Epoch 6/25\n",
            "956/956 [==============================] - 171s 179ms/step - loss: 0.0478 - acc: 0.9861 - true_positives: 9923.0000 - true_negatives: 20243.0000 - false_positives: 236.0000 - false_negatives: 189.0000 - precision: 0.9768 - recall: 0.9813 - val_loss: 0.0572 - val_acc: 0.9800 - val_true_positives: 2910.0000 - val_true_negatives: 6654.0000 - val_false_positives: 89.0000 - val_false_negatives: 106.0000 - val_precision: 0.9703 - val_recall: 0.9649\n",
            "Epoch 7/25\n",
            "956/956 [==============================] - 171s 179ms/step - loss: 0.0430 - acc: 0.9872 - true_positives: 9936.0000 - true_negatives: 20264.0000 - false_positives: 215.0000 - false_negatives: 176.0000 - precision: 0.9788 - recall: 0.9826 - val_loss: 0.0544 - val_acc: 0.9811 - val_true_positives: 2907.0000 - val_true_negatives: 6668.0000 - val_false_positives: 75.0000 - val_false_negatives: 109.0000 - val_precision: 0.9748 - val_recall: 0.9639\n",
            "Epoch 8/25\n",
            "956/956 [==============================] - 171s 179ms/step - loss: 0.0394 - acc: 0.9888 - true_positives: 9955.0000 - true_negatives: 20292.0000 - false_positives: 187.0000 - false_negatives: 157.0000 - precision: 0.9816 - recall: 0.9845 - val_loss: 0.0513 - val_acc: 0.9826 - val_true_positives: 2956.0000 - val_true_negatives: 6633.0000 - val_false_positives: 110.0000 - val_false_negatives: 60.0000 - val_precision: 0.9641 - val_recall: 0.9801\n",
            "Epoch 9/25\n",
            "956/956 [==============================] - 173s 181ms/step - loss: 0.0356 - acc: 0.9903 - true_positives: 9979.0000 - true_negatives: 20314.0000 - false_positives: 165.0000 - false_negatives: 133.0000 - precision: 0.9837 - recall: 0.9868 - val_loss: 0.0507 - val_acc: 0.9825 - val_true_positives: 2965.0000 - val_true_negatives: 6623.0000 - val_false_positives: 120.0000 - val_false_negatives: 51.0000 - val_precision: 0.9611 - val_recall: 0.9831\n",
            "Epoch 10/25\n",
            "956/956 [==============================] - 173s 181ms/step - loss: 0.0327 - acc: 0.9916 - true_positives: 10001.0000 - true_negatives: 20333.0000 - false_positives: 146.0000 - false_negatives: 111.0000 - precision: 0.9856 - recall: 0.9890 - val_loss: 0.0481 - val_acc: 0.9832 - val_true_positives: 2944.0000 - val_true_negatives: 6651.0000 - val_false_positives: 92.0000 - val_false_negatives: 72.0000 - val_precision: 0.9697 - val_recall: 0.9761\n",
            "Epoch 11/25\n",
            "956/956 [==============================] - 173s 181ms/step - loss: 0.0304 - acc: 0.9920 - true_positives: 10003.0000 - true_negatives: 20342.0000 - false_positives: 137.0000 - false_negatives: 109.0000 - precision: 0.9865 - recall: 0.9892 - val_loss: 0.0455 - val_acc: 0.9847 - val_true_positives: 2942.0000 - val_true_negatives: 6668.0000 - val_false_positives: 75.0000 - val_false_negatives: 74.0000 - val_precision: 0.9751 - val_recall: 0.9755\n",
            "Epoch 12/25\n",
            "956/956 [==============================] - 173s 181ms/step - loss: 0.0281 - acc: 0.9929 - true_positives: 10017.0000 - true_negatives: 20357.0000 - false_positives: 122.0000 - false_negatives: 95.0000 - precision: 0.9880 - recall: 0.9906 - val_loss: 0.0449 - val_acc: 0.9847 - val_true_positives: 2928.0000 - val_true_negatives: 6682.0000 - val_false_positives: 61.0000 - val_false_negatives: 88.0000 - val_precision: 0.9796 - val_recall: 0.9708\n",
            "Epoch 13/25\n",
            "956/956 [==============================] - 172s 180ms/step - loss: 0.0262 - acc: 0.9934 - true_positives: 10027.0000 - true_negatives: 20362.0000 - false_positives: 117.0000 - false_negatives: 85.0000 - precision: 0.9885 - recall: 0.9916 - val_loss: 0.0435 - val_acc: 0.9850 - val_true_positives: 2945.0000 - val_true_negatives: 6668.0000 - val_false_positives: 75.0000 - val_false_negatives: 71.0000 - val_precision: 0.9752 - val_recall: 0.9765\n",
            "Epoch 14/25\n",
            "956/956 [==============================] - 170s 178ms/step - loss: 0.0248 - acc: 0.9934 - true_positives: 10019.0000 - true_negatives: 20369.0000 - false_positives: 110.0000 - false_negatives: 93.0000 - precision: 0.9891 - recall: 0.9908 - val_loss: 0.0432 - val_acc: 0.9852 - val_true_positives: 2927.0000 - val_true_negatives: 6688.0000 - val_false_positives: 55.0000 - val_false_negatives: 89.0000 - val_precision: 0.9816 - val_recall: 0.9705\n",
            "Epoch 15/25\n",
            "956/956 [==============================] - 170s 178ms/step - loss: 0.0232 - acc: 0.9940 - true_positives: 10031.0000 - true_negatives: 20376.0000 - false_positives: 103.0000 - false_negatives: 81.0000 - precision: 0.9898 - recall: 0.9920 - val_loss: 0.0429 - val_acc: 0.9849 - val_true_positives: 2924.0000 - val_true_negatives: 6688.0000 - val_false_positives: 55.0000 - val_false_negatives: 92.0000 - val_precision: 0.9815 - val_recall: 0.9695\n",
            "Epoch 16/25\n",
            "956/956 [==============================] - 171s 179ms/step - loss: 0.0217 - acc: 0.9948 - true_positives: 10045.0000 - true_negatives: 20386.0000 - false_positives: 93.0000 - false_negatives: 67.0000 - precision: 0.9908 - recall: 0.9934 - val_loss: 0.0412 - val_acc: 0.9863 - val_true_positives: 2947.0000 - val_true_negatives: 6678.0000 - val_false_positives: 65.0000 - val_false_negatives: 69.0000 - val_precision: 0.9784 - val_recall: 0.9771\n",
            "Epoch 17/25\n",
            "956/956 [==============================] - 170s 178ms/step - loss: 0.0203 - acc: 0.9953 - true_positives: 10050.0000 - true_negatives: 20398.0000 - false_positives: 81.0000 - false_negatives: 62.0000 - precision: 0.9920 - recall: 0.9939 - val_loss: 0.0440 - val_acc: 0.9841 - val_true_positives: 2908.0000 - val_true_negatives: 6696.0000 - val_false_positives: 47.0000 - val_false_negatives: 108.0000 - val_precision: 0.9841 - val_recall: 0.9642\n",
            "Epoch 18/25\n",
            "956/956 [==============================] - 171s 179ms/step - loss: 0.0191 - acc: 0.9955 - true_positives: 10053.0000 - true_negatives: 20399.0000 - false_positives: 80.0000 - false_negatives: 59.0000 - precision: 0.9921 - recall: 0.9942 - val_loss: 0.0407 - val_acc: 0.9861 - val_true_positives: 2946.0000 - val_true_negatives: 6677.0000 - val_false_positives: 66.0000 - val_false_negatives: 70.0000 - val_precision: 0.9781 - val_recall: 0.9768\n",
            "Epoch 19/25\n",
            "956/956 [==============================] - 172s 180ms/step - loss: 0.0180 - acc: 0.9955 - true_positives: 10054.0000 - true_negatives: 20400.0000 - false_positives: 79.0000 - false_negatives: 58.0000 - precision: 0.9922 - recall: 0.9943 - val_loss: 0.0418 - val_acc: 0.9853 - val_true_positives: 2922.0000 - val_true_negatives: 6694.0000 - val_false_positives: 49.0000 - val_false_negatives: 94.0000 - val_precision: 0.9835 - val_recall: 0.9688\n",
            "Epoch 20/25\n",
            "956/956 [==============================] - 170s 178ms/step - loss: 0.0170 - acc: 0.9962 - true_positives: 10061.0000 - true_negatives: 20414.0000 - false_positives: 65.0000 - false_negatives: 51.0000 - precision: 0.9936 - recall: 0.9950 - val_loss: 0.0401 - val_acc: 0.9860 - val_true_positives: 2959.0000 - val_true_negatives: 6663.0000 - val_false_positives: 80.0000 - val_false_negatives: 57.0000 - val_precision: 0.9737 - val_recall: 0.9811\n",
            "Epoch 21/25\n",
            "956/956 [==============================] - 171s 179ms/step - loss: 0.0161 - acc: 0.9964 - true_positives: 10059.0000 - true_negatives: 20421.0000 - false_positives: 58.0000 - false_negatives: 53.0000 - precision: 0.9943 - recall: 0.9948 - val_loss: 0.0391 - val_acc: 0.9868 - val_true_positives: 2956.0000 - val_true_negatives: 6674.0000 - val_false_positives: 69.0000 - val_false_negatives: 60.0000 - val_precision: 0.9772 - val_recall: 0.9801\n",
            "Epoch 22/25\n",
            "956/956 [==============================] - 170s 178ms/step - loss: 0.0153 - acc: 0.9967 - true_positives: 10065.0000 - true_negatives: 20425.0000 - false_positives: 54.0000 - false_negatives: 47.0000 - precision: 0.9947 - recall: 0.9954 - val_loss: 0.0437 - val_acc: 0.9841 - val_true_positives: 2983.0000 - val_true_negatives: 6621.0000 - val_false_positives: 122.0000 - val_false_negatives: 33.0000 - val_precision: 0.9607 - val_recall: 0.9891\n",
            "Epoch 23/25\n",
            "956/956 [==============================] - 170s 178ms/step - loss: 0.0144 - acc: 0.9970 - true_positives: 10067.0000 - true_negatives: 20431.0000 - false_positives: 48.0000 - false_negatives: 45.0000 - precision: 0.9953 - recall: 0.9955 - val_loss: 0.0393 - val_acc: 0.9862 - val_true_positives: 2938.0000 - val_true_negatives: 6686.0000 - val_false_positives: 57.0000 - val_false_negatives: 78.0000 - val_precision: 0.9810 - val_recall: 0.9741\n",
            "Epoch 24/25\n",
            "956/956 [==============================] - 170s 178ms/step - loss: 0.0138 - acc: 0.9971 - true_positives: 10074.0000 - true_negatives: 20428.0000 - false_positives: 51.0000 - false_negatives: 38.0000 - precision: 0.9950 - recall: 0.9962 - val_loss: 0.0394 - val_acc: 0.9867 - val_true_positives: 2940.0000 - val_true_negatives: 6689.0000 - val_false_positives: 54.0000 - val_false_negatives: 76.0000 - val_precision: 0.9820 - val_recall: 0.9748\n",
            "Epoch 25/25\n",
            "956/956 [==============================] - 170s 178ms/step - loss: 0.0129 - acc: 0.9975 - true_positives: 10080.0000 - true_negatives: 20435.0000 - false_positives: 44.0000 - false_negatives: 32.0000 - precision: 0.9957 - recall: 0.9968 - val_loss: 0.0382 - val_acc: 0.9868 - val_true_positives: 2959.0000 - val_true_negatives: 6671.0000 - val_false_positives: 72.0000 - val_false_negatives: 57.0000 - val_precision: 0.9762 - val_recall: 0.9811\n"
          ]
        }
      ]
    },
    {
      "cell_type": "code",
      "source": [
        "from tensorflow.keras.models import load_model\n",
        "model.save('vgg16retrain2.h5')"
      ],
      "metadata": {
        "id": "s06f14-j-WqW"
      },
      "execution_count": null,
      "outputs": []
    },
    {
      "cell_type": "code",
      "source": [
        "from tensorflow.keras.models import load_model\n",
        "!pip install pyyaml h5py \n",
        "model.save('/content/drive/MyDrive/Weights','vgg16retrain_2.h5')"
      ],
      "metadata": {
        "colab": {
          "base_uri": "https://localhost:8080/"
        },
        "id": "mEGylkH4foMA",
        "outputId": "abb55d08-2bd6-493a-856a-2b09ad255ca6"
      },
      "execution_count": null,
      "outputs": [
        {
          "output_type": "stream",
          "name": "stdout",
          "text": [
            "Requirement already satisfied: pyyaml in /usr/local/lib/python3.7/dist-packages (3.13)\n",
            "Requirement already satisfied: h5py in /usr/local/lib/python3.7/dist-packages (3.1.0)\n",
            "Requirement already satisfied: cached-property in /usr/local/lib/python3.7/dist-packages (from h5py) (1.5.2)\n",
            "Requirement already satisfied: numpy>=1.14.5 in /usr/local/lib/python3.7/dist-packages (from h5py) (1.19.5)\n",
            "INFO:tensorflow:Assets written to: /content/drive/MyDrive/Weights/assets\n"
          ]
        }
      ]
    },
    {
      "cell_type": "code",
      "source": [
        "plt.plot(r.history['loss'], label='train loss')\n",
        "plt.plot(r.history['val_loss'], label='val loss')\n",
        "plt.plot(r.history['acc'], label='train acc')\n",
        "plt.plot(r.history['val_acc'], label='val acc')\n",
        "plt.legend()\n",
        "plt.show()"
      ],
      "metadata": {
        "id": "dDjIEA8u-ahL",
        "colab": {
          "base_uri": "https://localhost:8080/",
          "height": 265
        },
        "outputId": "084330c0-f16b-4f98-aeed-32c1f3b2c265"
      },
      "execution_count": null,
      "outputs": [
        {
          "output_type": "display_data",
          "data": {
            "image/png": "[encoded data removed]",
            "text/plain": [
              "<Figure size 432x288 with 1 Axes>"
            ]
          },
          "metadata": {
            "needs_background": "light"
          }
        }
      ]
    },
    {
      "cell_type": "code",
      "source": [
        "test_dir = '/content/drive/MyDrive/Datasets/PlantVillage(1)/test'\n",
        "test_datagen = ImageDataGenerator(rescale=1./255)\n",
        "\n",
        "test_generator = test_datagen.flow_from_directory (\n",
        "                test_dir,\n",
        "                target_size=(256,256),\n",
        "                batch_size=32,\n",
        "                class_mode='binary')"
      ],
      "metadata": {
        "id": "swk0hh3Q_JWr",
        "colab": {
          "base_uri": "https://localhost:8080/"
        },
        "outputId": "4e04f916-a6e9-4b67-f1ac-4d4ce64086cd"
      },
      "execution_count": null,
      "outputs": [
        {
          "output_type": "stream",
          "name": "stdout",
          "text": [
            "Found 8448 images belonging to 2 classes.\n"
          ]
        }
      ]
    },
    {
      "cell_type": "code",
      "source": [
        "model.evaluate_generator(test_generator)"
      ],
      "metadata": {
        "id": "8rNoCJhr_Ke3",
        "colab": {
          "base_uri": "https://localhost:8080/"
        },
        "outputId": "fe80da76-f7a3-4551-ea21-1e2dfa30a8df"
      },
      "execution_count": null,
      "outputs": [
        {
          "output_type": "stream",
          "name": "stderr",
          "text": [
            "/usr/local/lib/python3.7/dist-packages/ipykernel_launcher.py:1: UserWarning: `Model.evaluate_generator` is deprecated and will be removed in a future version. Please use `Model.evaluate`, which supports generators.\n",
            "  \"\"\"Entry point for launching an IPython kernel.\n"
          ]
        },
        {
          "output_type": "execute_result",
          "data": {
            "text/plain": [
              "[0.09760976582765579,\n",
              " 0.9636600613594055,\n",
              " 1889.0,\n",
              " 6252.0,\n",
              " 240.0,\n",
              " 67.0,\n",
              " 0.8872710466384888,\n",
              " 0.9657464027404785]"
            ]
          },
          "metadata": {},
          "execution_count": 20
        }
      ]
    },
    {
      "cell_type": "code",
      "source": [
        ""
      ],
      "metadata": {
        "id": "ffcGbt07f15M"
      },
      "execution_count": null,
      "outputs": []
    }
  ]
}