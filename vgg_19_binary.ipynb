{
  "nbformat": 4,
  "nbformat_minor": 0,
  "metadata": {
    "colab": {
      "name": "vgg 19 binary.ipynb",
      "provenance": [],
      "collapsed_sections": []
    },
    "kernelspec": {
      "name": "python3",
      "display_name": "Python 3"
    },
    "language_info": {
      "name": "python"
    },
    "accelerator": "GPU"
  },
  "cells": [
    {
      "cell_type": "code",
      "source": [
        "from google.colab import drive\n",
        "drive.mount('/content/drive/')"
      ],
      "metadata": {
        "colab": {
          "base_uri": "https://localhost:8080/"
        },
        "id": "TbLv4jycKslS",
        "outputId": "ac4884e2-e75f-4740-de3b-3f99ec506851"
      },
      "execution_count": null,
      "outputs": [
        {
          "output_type": "stream",
          "name": "stdout",
          "text": [
            "Mounted at /content/drive/\n"
          ]
        }
      ]
    },
    {
      "cell_type": "code",
      "source": [
        "!pip install tensorflow-gpu"
      ],
      "metadata": {
        "colab": {
          "base_uri": "https://localhost:8080/",
          "height": 938
        },
        "id": "4kP7ACPQKxQc",
        "outputId": "7b59da0d-85bd-44ee-9982-4d37999d1b63"
      },
      "execution_count": null,
      "outputs": [
        {
          "output_type": "stream",
          "name": "stdout",
          "text": [
            "Collecting tensorflow-gpu\n",
            "  Downloading tensorflow_gpu-2.7.0-cp37-cp37m-manylinux2010_x86_64.whl (489.6 MB)\n",
            "\u001b[K     |████████████████████████████████| 489.6 MB 24 kB/s \n",
            "\u001b[?25hRequirement already satisfied: h5py>=2.9.0 in /usr/local/lib/python3.7/dist-packages (from tensorflow-gpu) (3.1.0)\n",
            "Requirement already satisfied: protobuf>=3.9.2 in /usr/local/lib/python3.7/dist-packages (from tensorflow-gpu) (3.17.3)\n",
            "Requirement already satisfied: flatbuffers<3.0,>=1.12 in /usr/local/lib/python3.7/dist-packages (from tensorflow-gpu) (2.0)\n",
            "Requirement already satisfied: wheel<1.0,>=0.32.0 in /usr/local/lib/python3.7/dist-packages (from tensorflow-gpu) (0.37.1)\n",
            "Requirement already satisfied: tensorboard~=2.6 in /usr/local/lib/python3.7/dist-packages (from tensorflow-gpu) (2.7.0)\n",
            "Requirement already satisfied: termcolor>=1.1.0 in /usr/local/lib/python3.7/dist-packages (from tensorflow-gpu) (1.1.0)\n",
            "Requirement already satisfied: typing-extensions>=3.6.6 in /usr/local/lib/python3.7/dist-packages (from tensorflow-gpu) (3.10.0.2)\n",
            "Requirement already satisfied: keras-preprocessing>=1.1.1 in /usr/local/lib/python3.7/dist-packages (from tensorflow-gpu) (1.1.2)\n",
            "Requirement already satisfied: google-pasta>=0.1.1 in /usr/local/lib/python3.7/dist-packages (from tensorflow-gpu) (0.2.0)\n",
            "Requirement already satisfied: libclang>=9.0.1 in /usr/local/lib/python3.7/dist-packages (from tensorflow-gpu) (12.0.0)\n",
            "Requirement already satisfied: keras<2.8,>=2.7.0rc0 in /usr/local/lib/python3.7/dist-packages (from tensorflow-gpu) (2.7.0)\n",
            "Requirement already satisfied: opt-einsum>=2.3.2 in /usr/local/lib/python3.7/dist-packages (from tensorflow-gpu) (3.3.0)\n",
            "Requirement already satisfied: tensorflow-io-gcs-filesystem>=0.21.0 in /usr/local/lib/python3.7/dist-packages (from tensorflow-gpu) (0.23.1)\n",
            "Requirement already satisfied: grpcio<2.0,>=1.24.3 in /usr/local/lib/python3.7/dist-packages (from tensorflow-gpu) (1.43.0)\n",
            "Requirement already satisfied: tensorflow-estimator<2.8,~=2.7.0rc0 in /usr/local/lib/python3.7/dist-packages (from tensorflow-gpu) (2.7.0)\n",
            "Requirement already satisfied: absl-py>=0.4.0 in /usr/local/lib/python3.7/dist-packages (from tensorflow-gpu) (1.0.0)\n",
            "Requirement already satisfied: numpy>=1.14.5 in /usr/local/lib/python3.7/dist-packages (from tensorflow-gpu) (1.19.5)\n",
            "Requirement already satisfied: gast<0.5.0,>=0.2.1 in /usr/local/lib/python3.7/dist-packages (from tensorflow-gpu) (0.4.0)\n",
            "Requirement already satisfied: astunparse>=1.6.0 in /usr/local/lib/python3.7/dist-packages (from tensorflow-gpu) (1.6.3)\n",
            "Requirement already satisfied: six>=1.12.0 in /usr/local/lib/python3.7/dist-packages (from tensorflow-gpu) (1.15.0)\n",
            "Requirement already satisfied: wrapt>=1.11.0 in /usr/local/lib/python3.7/dist-packages (from tensorflow-gpu) (1.13.3)\n",
            "Requirement already satisfied: cached-property in /usr/local/lib/python3.7/dist-packages (from h5py>=2.9.0->tensorflow-gpu) (1.5.2)\n",
            "Requirement already satisfied: werkzeug>=0.11.15 in /usr/local/lib/python3.7/dist-packages (from tensorboard~=2.6->tensorflow-gpu) (1.0.1)\n",
            "Requirement already satisfied: tensorboard-data-server<0.7.0,>=0.6.0 in /usr/local/lib/python3.7/dist-packages (from tensorboard~=2.6->tensorflow-gpu) (0.6.1)\n",
            "Requirement already satisfied: google-auth<3,>=1.6.3 in /usr/local/lib/python3.7/dist-packages (from tensorboard~=2.6->tensorflow-gpu) (1.35.0)\n",
            "Requirement already satisfied: tensorboard-plugin-wit>=1.6.0 in /usr/local/lib/python3.7/dist-packages (from tensorboard~=2.6->tensorflow-gpu) (1.8.1)\n",
            "Requirement already satisfied: google-auth-oauthlib<0.5,>=0.4.1 in /usr/local/lib/python3.7/dist-packages (from tensorboard~=2.6->tensorflow-gpu) (0.4.6)\n",
            "Requirement already satisfied: requests<3,>=2.21.0 in /usr/local/lib/python3.7/dist-packages (from tensorboard~=2.6->tensorflow-gpu) (2.23.0)\n",
            "Requirement already satisfied: markdown>=2.6.8 in /usr/local/lib/python3.7/dist-packages (from tensorboard~=2.6->tensorflow-gpu) (3.3.6)\n",
            "Requirement already satisfied: setuptools>=41.0.0 in /usr/local/lib/python3.7/dist-packages (from tensorboard~=2.6->tensorflow-gpu) (57.4.0)\n",
            "Requirement already satisfied: rsa<5,>=3.1.4 in /usr/local/lib/python3.7/dist-packages (from google-auth<3,>=1.6.3->tensorboard~=2.6->tensorflow-gpu) (4.8)\n",
            "Requirement already satisfied: pyasn1-modules>=0.2.1 in /usr/local/lib/python3.7/dist-packages (from google-auth<3,>=1.6.3->tensorboard~=2.6->tensorflow-gpu) (0.2.8)\n",
            "Requirement already satisfied: cachetools<5.0,>=2.0.0 in /usr/local/lib/python3.7/dist-packages (from google-auth<3,>=1.6.3->tensorboard~=2.6->tensorflow-gpu) (4.2.4)\n",
            "Requirement already satisfied: requests-oauthlib>=0.7.0 in /usr/local/lib/python3.7/dist-packages (from google-auth-oauthlib<0.5,>=0.4.1->tensorboard~=2.6->tensorflow-gpu) (1.3.0)\n",
            "Requirement already satisfied: importlib-metadata>=4.4 in /usr/local/lib/python3.7/dist-packages (from markdown>=2.6.8->tensorboard~=2.6->tensorflow-gpu) (4.10.1)\n",
            "Requirement already satisfied: zipp>=0.5 in /usr/local/lib/python3.7/dist-packages (from importlib-metadata>=4.4->markdown>=2.6.8->tensorboard~=2.6->tensorflow-gpu) (3.7.0)\n",
            "Requirement already satisfied: pyasn1<0.5.0,>=0.4.6 in /usr/local/lib/python3.7/dist-packages (from pyasn1-modules>=0.2.1->google-auth<3,>=1.6.3->tensorboard~=2.6->tensorflow-gpu) (0.4.8)\n",
            "Requirement already satisfied: chardet<4,>=3.0.2 in /usr/local/lib/python3.7/dist-packages (from requests<3,>=2.21.0->tensorboard~=2.6->tensorflow-gpu) (3.0.4)\n",
            "Requirement already satisfied: certifi>=2017.4.17 in /usr/local/lib/python3.7/dist-packages (from requests<3,>=2.21.0->tensorboard~=2.6->tensorflow-gpu) (2021.10.8)\n",
            "Requirement already satisfied: urllib3!=1.25.0,!=1.25.1,<1.26,>=1.21.1 in /usr/local/lib/python3.7/dist-packages (from requests<3,>=2.21.0->tensorboard~=2.6->tensorflow-gpu) (1.24.3)\n",
            "Requirement already satisfied: idna<3,>=2.5 in /usr/local/lib/python3.7/dist-packages (from requests<3,>=2.21.0->tensorboard~=2.6->tensorflow-gpu) (2.10)\n",
            "Requirement already satisfied: oauthlib>=3.0.0 in /usr/local/lib/python3.7/dist-packages (from requests-oauthlib>=0.7.0->google-auth-oauthlib<0.5,>=0.4.1->tensorboard~=2.6->tensorflow-gpu) (3.1.1)\n",
            "Installing collected packages: tensorflow-gpu\n",
            "Successfully installed tensorflow-gpu-2.7.0\n"
          ]
        },
        {
          "output_type": "display_data",
          "data": {
            "application/vnd.colab-display-data+json": {
              "pip_warning": {
                "packages": [
                  "tensorflow"
                ]
              }
            }
          },
          "metadata": {}
        }
      ]
    },
    {
      "cell_type": "code",
      "execution_count": null,
      "metadata": {
        "id": "f-f2ub8FIerL"
      },
      "outputs": [],
      "source": [
        "import numpy as np\n",
        "import pandas as pd\n",
        "import matplotlib.pyplot as plt\n",
        "import os\n",
        "\n",
        "from tensorflow.keras.layers import Input, Lambda, Dense, Flatten\n",
        "from tensorflow.keras.models import Model\n",
        "from keras.applications.vgg19 import VGG19\n",
        "from tensorflow.keras.applications.vgg19 import preprocess_input\n",
        "from tensorflow.keras.preprocessing import image\n",
        "from tensorflow.keras.preprocessing.image import ImageDataGenerator,load_img\n",
        "from tensorflow.keras.models import Sequential\n",
        "import numpy as np\n",
        "from glob import glob\n",
        "import matplotlib.pyplot as plt"
      ]
    },
    {
      "cell_type": "code",
      "source": [
        "IMAGE_SIZE = [256, 256]\n",
        "\n",
        "train_path = '/content/drive/MyDrive/Datasets/PlantVillage(1)/train'\n",
        "valid_path = '/content/drive/MyDrive/Datasets/PlantVillage(1)/val'"
      ],
      "metadata": {
        "id": "5K7ouCAlIy7h"
      },
      "execution_count": null,
      "outputs": []
    },
    {
      "cell_type": "code",
      "source": [
        "vgg = VGG19(input_shape=IMAGE_SIZE + [3], weights='imagenet', include_top=False)\n",
        "vgg.output"
      ],
      "metadata": {
        "colab": {
          "base_uri": "https://localhost:8080/"
        },
        "id": "5lIKNEzEK6jC",
        "outputId": "8171a618-9de0-48b2-9fe3-eb66dd00b446"
      },
      "execution_count": null,
      "outputs": [
        {
          "output_type": "stream",
          "name": "stdout",
          "text": [
            "Downloading data from https://storage.googleapis.com/tensorflow/keras-applications/vgg19/vgg19_weights_tf_dim_ordering_tf_kernels_notop.h5\n",
            "80142336/80134624 [==============================] - 1s 0us/step\n",
            "80150528/80134624 [==============================] - 1s 0us/step\n"
          ]
        },
        {
          "output_type": "execute_result",
          "data": {
            "text/plain": [
              "<KerasTensor: shape=(None, 8, 8, 512) dtype=float32 (created by layer 'block5_pool')>"
            ]
          },
          "metadata": {},
          "execution_count": 10
        }
      ]
    },
    {
      "cell_type": "code",
      "source": [
        "for layer in vgg.layers:\n",
        "    layer.trainable = False"
      ],
      "metadata": {
        "id": "mv_TLm--K-gE"
      },
      "execution_count": null,
      "outputs": []
    },
    {
      "cell_type": "code",
      "source": [
        "x = Flatten()(vgg.output)"
      ],
      "metadata": {
        "id": "0WcL-oP2K-iw"
      },
      "execution_count": null,
      "outputs": []
    },
    {
      "cell_type": "code",
      "source": [
        "prediction = Dense(1, activation='sigmoid')(x)\n",
        "\n",
        "# create a model object\n",
        "model = Model(inputs=vgg.input, outputs=prediction)"
      ],
      "metadata": {
        "id": "MSe2vSO0K-lK"
      },
      "execution_count": null,
      "outputs": []
    },
    {
      "cell_type": "code",
      "source": [
        "model.summary()"
      ],
      "metadata": {
        "colab": {
          "base_uri": "https://localhost:8080/"
        },
        "id": "AUryWFGTK-qA",
        "outputId": "722d47fd-f015-4868-b390-34ef71fe8772"
      },
      "execution_count": null,
      "outputs": [
        {
          "output_type": "stream",
          "name": "stdout",
          "text": [
            "Model: \"model\"\n",
            "_________________________________________________________________\n",
            " Layer (type)                Output Shape              Param #   \n",
            "=================================================================\n",
            " input_1 (InputLayer)        [(None, 256, 256, 3)]     0         \n",
            "                                                                 \n",
            " block1_conv1 (Conv2D)       (None, 256, 256, 64)      1792      \n",
            "                                                                 \n",
            " block1_conv2 (Conv2D)       (None, 256, 256, 64)      36928     \n",
            "                                                                 \n",
            " block1_pool (MaxPooling2D)  (None, 128, 128, 64)      0         \n",
            "                                                                 \n",
            " block2_conv1 (Conv2D)       (None, 128, 128, 128)     73856     \n",
            "                                                                 \n",
            " block2_conv2 (Conv2D)       (None, 128, 128, 128)     147584    \n",
            "                                                                 \n",
            " block2_pool (MaxPooling2D)  (None, 64, 64, 128)       0         \n",
            "                                                                 \n",
            " block3_conv1 (Conv2D)       (None, 64, 64, 256)       295168    \n",
            "                                                                 \n",
            " block3_conv2 (Conv2D)       (None, 64, 64, 256)       590080    \n",
            "                                                                 \n",
            " block3_conv3 (Conv2D)       (None, 64, 64, 256)       590080    \n",
            "                                                                 \n",
            " block3_conv4 (Conv2D)       (None, 64, 64, 256)       590080    \n",
            "                                                                 \n",
            " block3_pool (MaxPooling2D)  (None, 32, 32, 256)       0         \n",
            "                                                                 \n",
            " block4_conv1 (Conv2D)       (None, 32, 32, 512)       1180160   \n",
            "                                                                 \n",
            " block4_conv2 (Conv2D)       (None, 32, 32, 512)       2359808   \n",
            "                                                                 \n",
            " block4_conv3 (Conv2D)       (None, 32, 32, 512)       2359808   \n",
            "                                                                 \n",
            " block4_conv4 (Conv2D)       (None, 32, 32, 512)       2359808   \n",
            "                                                                 \n",
            " block4_pool (MaxPooling2D)  (None, 16, 16, 512)       0         \n",
            "                                                                 \n",
            " block5_conv1 (Conv2D)       (None, 16, 16, 512)       2359808   \n",
            "                                                                 \n",
            " block5_conv2 (Conv2D)       (None, 16, 16, 512)       2359808   \n",
            "                                                                 \n",
            " block5_conv3 (Conv2D)       (None, 16, 16, 512)       2359808   \n",
            "                                                                 \n",
            " block5_conv4 (Conv2D)       (None, 16, 16, 512)       2359808   \n",
            "                                                                 \n",
            " block5_pool (MaxPooling2D)  (None, 8, 8, 512)         0         \n",
            "                                                                 \n",
            " flatten (Flatten)           (None, 32768)             0         \n",
            "                                                                 \n",
            " dense (Dense)               (None, 1)                 32769     \n",
            "                                                                 \n",
            "=================================================================\n",
            "Total params: 20,057,153\n",
            "Trainable params: 32,769\n",
            "Non-trainable params: 20,024,384\n",
            "_________________________________________________________________\n"
          ]
        }
      ]
    },
    {
      "cell_type": "code",
      "source": [
        "import tensorflow as tf\n",
        "from tensorflow.keras import optimizers\n",
        "\n",
        "model.compile (loss = 'binary_crossentropy',\n",
        "              optimizer = optimizers.RMSprop(learning_rate=1e-4),\n",
        "              metrics=['acc',tf.keras.metrics.TruePositives(),tf.keras.metrics.TrueNegatives(),tf.keras.metrics.FalsePositives(),tf.keras.metrics.FalseNegatives(),tf.keras.metrics.Precision(),tf.keras.metrics.Recall()])"
      ],
      "metadata": {
        "id": "DuesI3o7LMlO"
      },
      "execution_count": null,
      "outputs": []
    },
    {
      "cell_type": "code",
      "source": [
        "from tensorflow.keras.preprocessing.image import ImageDataGenerator\n",
        "\n",
        "train_datagen = ImageDataGenerator(rescale = 1./255,preprocessing_function=preprocess_input)\n",
        "\n",
        "test_datagen = ImageDataGenerator(rescale = 1./255,preprocessing_function=preprocess_input)"
      ],
      "metadata": {
        "id": "gxUX-fgrLSIx"
      },
      "execution_count": null,
      "outputs": []
    },
    {
      "cell_type": "code",
      "source": [
        "training_set = train_datagen.flow_from_directory(train_path,\n",
        "                                                 \n",
        "                                                 target_size = (256, 256),\n",
        "                                                 batch_size = 32,\n",
        "                                                 class_mode = 'binary')"
      ],
      "metadata": {
        "colab": {
          "base_uri": "https://localhost:8080/"
        },
        "id": "_34GlaKdLUu1",
        "outputId": "f055498d-812b-444a-9535-c16ab8803313"
      },
      "execution_count": null,
      "outputs": [
        {
          "output_type": "stream",
          "name": "stdout",
          "text": [
            "Found 30591 images belonging to 2 classes.\n"
          ]
        }
      ]
    },
    {
      "cell_type": "code",
      "source": [
        "test_set = test_datagen.flow_from_directory(valid_path,\n",
        "                                            target_size = (256, 256),\n",
        "                                            batch_size = 32,\n",
        "                                            class_mode = 'binary')"
      ],
      "metadata": {
        "colab": {
          "base_uri": "https://localhost:8080/"
        },
        "id": "5zQVSIeALZy2",
        "outputId": "540f5c99-65f2-48b4-eab2-1dd2fbd76ca1"
      },
      "execution_count": null,
      "outputs": [
        {
          "output_type": "stream",
          "name": "stdout",
          "text": [
            "Found 9759 images belonging to 2 classes.\n"
          ]
        }
      ]
    },
    {
      "cell_type": "code",
      "source": [
        "r = model.fit(\n",
        "  training_set,\n",
        "  validation_data=test_set,\n",
        "  epochs=25\n",
        ")"
      ],
      "metadata": {
        "colab": {
          "base_uri": "https://localhost:8080/"
        },
        "id": "-SuOTy5zLZ5K",
        "outputId": "ffea3fdd-a0a8-4bc9-965e-e2d237e2904c"
      },
      "execution_count": null,
      "outputs": [
        {
          "output_type": "stream",
          "name": "stdout",
          "text": [
            "Epoch 1/25\n",
            "956/956 [==============================] - 7199s 8s/step - loss: 0.1991 - acc: 0.9257 - true_positives: 8668.0000 - true_negatives: 19651.0000 - false_positives: 828.0000 - false_negatives: 1444.0000 - precision: 0.9128 - recall: 0.8572 - val_loss: 0.1306 - val_acc: 0.9546 - val_true_positives: 2838.0000 - val_true_negatives: 6478.0000 - val_false_positives: 265.0000 - val_false_negatives: 178.0000 - val_precision: 0.9146 - val_recall: 0.9410\n",
            "Epoch 2/25\n",
            "956/956 [==============================] - 490s 512ms/step - loss: 0.1090 - acc: 0.9628 - true_positives: 9518.0000 - true_negatives: 19936.0000 - false_positives: 543.0000 - false_negatives: 594.0000 - precision: 0.9460 - recall: 0.9413 - val_loss: 0.0987 - val_acc: 0.9665 - val_true_positives: 2801.0000 - val_true_negatives: 6631.0000 - val_false_positives: 112.0000 - val_false_negatives: 215.0000 - val_precision: 0.9616 - val_recall: 0.9287\n",
            "Epoch 3/25\n",
            "956/956 [==============================] - 490s 513ms/step - loss: 0.0863 - acc: 0.9720 - true_positives: 9678.0000 - true_negatives: 20055.0000 - false_positives: 424.0000 - false_negatives: 434.0000 - precision: 0.9580 - recall: 0.9571 - val_loss: 0.0855 - val_acc: 0.9717 - val_true_positives: 2928.0000 - val_true_negatives: 6555.0000 - val_false_positives: 188.0000 - val_false_negatives: 88.0000 - val_precision: 0.9397 - val_recall: 0.9708\n",
            "Epoch 4/25\n",
            "956/956 [==============================] - 493s 516ms/step - loss: 0.0731 - acc: 0.9757 - true_positives: 9747.0000 - true_negatives: 20101.0000 - false_positives: 378.0000 - false_negatives: 365.0000 - precision: 0.9627 - recall: 0.9639 - val_loss: 0.0780 - val_acc: 0.9737 - val_true_positives: 2940.0000 - val_true_negatives: 6562.0000 - val_false_positives: 181.0000 - val_false_negatives: 76.0000 - val_precision: 0.9420 - val_recall: 0.9748\n",
            "Epoch 5/25\n",
            "956/956 [==============================] - 494s 517ms/step - loss: 0.0647 - acc: 0.9792 - true_positives: 9806.0000 - true_negatives: 20150.0000 - false_positives: 329.0000 - false_negatives: 306.0000 - precision: 0.9675 - recall: 0.9697 - val_loss: 0.0712 - val_acc: 0.9753 - val_true_positives: 2861.0000 - val_true_negatives: 6657.0000 - val_false_positives: 86.0000 - val_false_negatives: 155.0000 - val_precision: 0.9708 - val_recall: 0.9486\n",
            "Epoch 6/25\n",
            "956/956 [==============================] - 493s 516ms/step - loss: 0.0582 - acc: 0.9819 - true_positives: 9846.0000 - true_negatives: 20192.0000 - false_positives: 287.0000 - false_negatives: 266.0000 - precision: 0.9717 - recall: 0.9737 - val_loss: 0.0676 - val_acc: 0.9769 - val_true_positives: 2867.0000 - val_true_negatives: 6667.0000 - val_false_positives: 76.0000 - val_false_negatives: 149.0000 - val_precision: 0.9742 - val_recall: 0.9506\n",
            "Epoch 7/25\n",
            "956/956 [==============================] - 493s 515ms/step - loss: 0.0528 - acc: 0.9843 - true_positives: 9884.0000 - true_negatives: 20228.0000 - false_positives: 251.0000 - false_negatives: 228.0000 - precision: 0.9752 - recall: 0.9775 - val_loss: 0.0672 - val_acc: 0.9777 - val_true_positives: 2962.0000 - val_true_negatives: 6579.0000 - val_false_positives: 164.0000 - val_false_negatives: 54.0000 - val_precision: 0.9475 - val_recall: 0.9821\n",
            "Epoch 8/25\n",
            "956/956 [==============================] - 493s 515ms/step - loss: 0.0489 - acc: 0.9853 - true_positives: 9899.0000 - true_negatives: 20242.0000 - false_positives: 237.0000 - false_negatives: 213.0000 - precision: 0.9766 - recall: 0.9789 - val_loss: 0.0629 - val_acc: 0.9783 - val_true_positives: 2960.0000 - val_true_negatives: 6587.0000 - val_false_positives: 156.0000 - val_false_negatives: 56.0000 - val_precision: 0.9499 - val_recall: 0.9814\n",
            "Epoch 9/25\n",
            "956/956 [==============================] - 489s 511ms/step - loss: 0.0449 - acc: 0.9871 - true_positives: 9919.0000 - true_negatives: 20277.0000 - false_positives: 202.0000 - false_negatives: 193.0000 - precision: 0.9800 - recall: 0.9809 - val_loss: 0.0617 - val_acc: 0.9783 - val_true_positives: 2964.0000 - val_true_negatives: 6583.0000 - val_false_positives: 160.0000 - val_false_negatives: 52.0000 - val_precision: 0.9488 - val_recall: 0.9828\n",
            "Epoch 10/25\n",
            "956/956 [==============================] - 489s 512ms/step - loss: 0.0415 - acc: 0.9885 - true_positives: 9945.0000 - true_negatives: 20294.0000 - false_positives: 185.0000 - false_negatives: 167.0000 - precision: 0.9817 - recall: 0.9835 - val_loss: 0.0613 - val_acc: 0.9784 - val_true_positives: 2969.0000 - val_true_negatives: 6579.0000 - val_false_positives: 164.0000 - val_false_negatives: 47.0000 - val_precision: 0.9477 - val_recall: 0.9844\n",
            "Epoch 11/25\n",
            "956/956 [==============================] - 489s 511ms/step - loss: 0.0389 - acc: 0.9890 - true_positives: 9951.0000 - true_negatives: 20304.0000 - false_positives: 175.0000 - false_negatives: 161.0000 - precision: 0.9827 - recall: 0.9841 - val_loss: 0.0539 - val_acc: 0.9810 - val_true_positives: 2941.0000 - val_true_negatives: 6633.0000 - val_false_positives: 110.0000 - val_false_negatives: 75.0000 - val_precision: 0.9639 - val_recall: 0.9751\n",
            "Epoch 12/25\n",
            "956/956 [==============================] - 495s 517ms/step - loss: 0.0367 - acc: 0.9903 - true_positives: 9982.0000 - true_negatives: 20312.0000 - false_positives: 167.0000 - false_negatives: 130.0000 - precision: 0.9835 - recall: 0.9871 - val_loss: 0.0528 - val_acc: 0.9810 - val_true_positives: 2936.0000 - val_true_negatives: 6638.0000 - val_false_positives: 105.0000 - val_false_negatives: 80.0000 - val_precision: 0.9655 - val_recall: 0.9735\n",
            "Epoch 13/25\n",
            "956/956 [==============================] - 492s 515ms/step - loss: 0.0347 - acc: 0.9904 - true_positives: 9973.0000 - true_negatives: 20323.0000 - false_positives: 156.0000 - false_negatives: 139.0000 - precision: 0.9846 - recall: 0.9863 - val_loss: 0.0520 - val_acc: 0.9812 - val_true_positives: 2951.0000 - val_true_negatives: 6625.0000 - val_false_positives: 118.0000 - val_false_negatives: 65.0000 - val_precision: 0.9616 - val_recall: 0.9784\n",
            "Epoch 14/25\n",
            "956/956 [==============================] - 493s 516ms/step - loss: 0.0325 - acc: 0.9910 - true_positives: 9983.0000 - true_negatives: 20334.0000 - false_positives: 145.0000 - false_negatives: 129.0000 - precision: 0.9857 - recall: 0.9872 - val_loss: 0.0536 - val_acc: 0.9814 - val_true_positives: 2964.0000 - val_true_negatives: 6613.0000 - val_false_positives: 130.0000 - val_false_negatives: 52.0000 - val_precision: 0.9580 - val_recall: 0.9828\n",
            "Epoch 15/25\n",
            "956/956 [==============================] - 490s 512ms/step - loss: 0.0307 - acc: 0.9916 - true_positives: 9993.0000 - true_negatives: 20340.0000 - false_positives: 139.0000 - false_negatives: 119.0000 - precision: 0.9863 - recall: 0.9882 - val_loss: 0.0515 - val_acc: 0.9815 - val_true_positives: 2910.0000 - val_true_negatives: 6668.0000 - val_false_positives: 75.0000 - val_false_negatives: 106.0000 - val_precision: 0.9749 - val_recall: 0.9649\n",
            "Epoch 16/25\n",
            "956/956 [==============================] - 487s 510ms/step - loss: 0.0289 - acc: 0.9925 - true_positives: 10008.0000 - true_negatives: 20355.0000 - false_positives: 124.0000 - false_negatives: 104.0000 - precision: 0.9878 - recall: 0.9897 - val_loss: 0.0514 - val_acc: 0.9810 - val_true_positives: 2907.0000 - val_true_negatives: 6667.0000 - val_false_positives: 76.0000 - val_false_negatives: 109.0000 - val_precision: 0.9745 - val_recall: 0.9639\n",
            "Epoch 17/25\n",
            "956/956 [==============================] - 492s 514ms/step - loss: 0.0279 - acc: 0.9925 - true_positives: 10001.0000 - true_negatives: 20361.0000 - false_positives: 118.0000 - false_negatives: 111.0000 - precision: 0.9883 - recall: 0.9890 - val_loss: 0.0492 - val_acc: 0.9827 - val_true_positives: 2953.0000 - val_true_negatives: 6637.0000 - val_false_positives: 106.0000 - val_false_negatives: 63.0000 - val_precision: 0.9653 - val_recall: 0.9791\n",
            "Epoch 18/25\n",
            "956/956 [==============================] - 492s 515ms/step - loss: 0.0263 - acc: 0.9930 - true_positives: 10019.0000 - true_negatives: 20358.0000 - false_positives: 121.0000 - false_negatives: 93.0000 - precision: 0.9881 - recall: 0.9908 - val_loss: 0.0509 - val_acc: 0.9827 - val_true_positives: 2964.0000 - val_true_negatives: 6626.0000 - val_false_positives: 117.0000 - val_false_negatives: 52.0000 - val_precision: 0.9620 - val_recall: 0.9828\n",
            "Epoch 19/25\n",
            "956/956 [==============================] - 492s 515ms/step - loss: 0.0248 - acc: 0.9941 - true_positives: 10027.0000 - true_negatives: 20384.0000 - false_positives: 95.0000 - false_negatives: 85.0000 - precision: 0.9906 - recall: 0.9916 - val_loss: 0.0499 - val_acc: 0.9828 - val_true_positives: 2964.0000 - val_true_negatives: 6627.0000 - val_false_positives: 116.0000 - val_false_negatives: 52.0000 - val_precision: 0.9623 - val_recall: 0.9828\n",
            "Epoch 20/25\n",
            "956/956 [==============================] - 492s 514ms/step - loss: 0.0237 - acc: 0.9943 - true_positives: 10033.0000 - true_negatives: 20385.0000 - false_positives: 94.0000 - false_negatives: 79.0000 - precision: 0.9907 - recall: 0.9922 - val_loss: 0.0484 - val_acc: 0.9829 - val_true_positives: 2964.0000 - val_true_negatives: 6628.0000 - val_false_positives: 115.0000 - val_false_negatives: 52.0000 - val_precision: 0.9627 - val_recall: 0.9828\n",
            "Epoch 21/25\n",
            "956/956 [==============================] - 486s 508ms/step - loss: 0.0227 - acc: 0.9942 - true_positives: 10029.0000 - true_negatives: 20386.0000 - false_positives: 93.0000 - false_negatives: 83.0000 - precision: 0.9908 - recall: 0.9918 - val_loss: 0.0469 - val_acc: 0.9836 - val_true_positives: 2954.0000 - val_true_negatives: 6645.0000 - val_false_positives: 98.0000 - val_false_negatives: 62.0000 - val_precision: 0.9679 - val_recall: 0.9794\n",
            "Epoch 22/25\n",
            "956/956 [==============================] - 486s 508ms/step - loss: 0.0217 - acc: 0.9949 - true_positives: 10044.0000 - true_negatives: 20391.0000 - false_positives: 88.0000 - false_negatives: 68.0000 - precision: 0.9913 - recall: 0.9933 - val_loss: 0.0471 - val_acc: 0.9828 - val_true_positives: 2960.0000 - val_true_negatives: 6631.0000 - val_false_positives: 112.0000 - val_false_negatives: 56.0000 - val_precision: 0.9635 - val_recall: 0.9814\n",
            "Epoch 23/25\n",
            "956/956 [==============================] - 486s 508ms/step - loss: 0.0208 - acc: 0.9949 - true_positives: 10043.0000 - true_negatives: 20392.0000 - false_positives: 87.0000 - false_negatives: 69.0000 - precision: 0.9914 - recall: 0.9932 - val_loss: 0.0499 - val_acc: 0.9820 - val_true_positives: 2895.0000 - val_true_negatives: 6688.0000 - val_false_positives: 55.0000 - val_false_negatives: 121.0000 - val_precision: 0.9814 - val_recall: 0.9599\n",
            "Epoch 24/25\n",
            "956/956 [==============================] - 486s 509ms/step - loss: 0.0197 - acc: 0.9954 - true_positives: 10050.0000 - true_negatives: 20399.0000 - false_positives: 80.0000 - false_negatives: 62.0000 - precision: 0.9921 - recall: 0.9939 - val_loss: 0.0464 - val_acc: 0.9837 - val_true_positives: 2950.0000 - val_true_negatives: 6650.0000 - val_false_positives: 93.0000 - val_false_negatives: 66.0000 - val_precision: 0.9694 - val_recall: 0.9781\n",
            "Epoch 25/25\n",
            "956/956 [==============================] - 487s 510ms/step - loss: 0.0188 - acc: 0.9957 - true_positives: 10052.0000 - true_negatives: 20407.0000 - false_positives: 72.0000 - false_negatives: 60.0000 - precision: 0.9929 - recall: 0.9941 - val_loss: 0.0471 - val_acc: 0.9833 - val_true_positives: 2963.0000 - val_true_negatives: 6633.0000 - val_false_positives: 110.0000 - val_false_negatives: 53.0000 - val_precision: 0.9642 - val_recall: 0.9824\n"
          ]
        }
      ]
    },
    {
      "cell_type": "code",
      "source": [
        "from tensorflow.keras.models import load_model\n",
        "\n",
        "model.save('VGG19Retrain2.h5')"
      ],
      "metadata": {
        "id": "TrRhqiPnMcIk"
      },
      "execution_count": null,
      "outputs": []
    },
    {
      "cell_type": "code",
      "source": [
        "plt.plot(r.history['loss'], label='train loss')\n",
        "plt.plot(r.history['val_loss'], label='val loss')\n",
        "plt.plot(r.history['acc'], label='train acc')\n",
        "plt.plot(r.history['val_acc'], label='val acc')\n",
        "plt.legend()\n",
        "plt.show()"
      ],
      "metadata": {
        "id": "8V35wtRML2Jr",
        "colab": {
          "base_uri": "https://localhost:8080/",
          "height": 265
        },
        "outputId": "611141d7-5536-4e0e-a4b3-890d054a722f"
      },
      "execution_count": null,
      "outputs": [
        {
          "output_type": "display_data",
          "data": {
            "image/png": "[encoded data removed]",
            "text/plain": [
              "<Figure size 432x288 with 1 Axes>"
            ]
          },
          "metadata": {
            "needs_background": "light"
          }
        }
      ]
    },
    {
      "cell_type": "code",
      "source": [
        "test_dir = '/content/drive/MyDrive/Datasets/PlantVillage(1)/test'\n",
        "test_datagen = ImageDataGenerator(rescale=1./255)\n",
        "\n",
        "test_generator = test_datagen.flow_from_directory (\n",
        "                test_dir,\n",
        "                target_size=(256,256),\n",
        "                batch_size=32,\n",
        "                class_mode='binary')"
      ],
      "metadata": {
        "id": "FOWYRY3LL5b7",
        "colab": {
          "base_uri": "https://localhost:8080/"
        },
        "outputId": "b6377603-672f-4248-c420-dc398ef7918e"
      },
      "execution_count": null,
      "outputs": [
        {
          "output_type": "stream",
          "name": "stdout",
          "text": [
            "Found 8448 images belonging to 2 classes.\n"
          ]
        }
      ]
    },
    {
      "cell_type": "code",
      "source": [
        "model.evaluate_generator(test_generator)"
      ],
      "metadata": {
        "id": "Dkb_HJ-PL8or",
        "colab": {
          "base_uri": "https://localhost:8080/"
        },
        "outputId": "3f893415-d372-4b2c-a2cb-3537ff03d3ac"
      },
      "execution_count": null,
      "outputs": [
        {
          "output_type": "stream",
          "name": "stderr",
          "text": [
            "/usr/local/lib/python3.7/dist-packages/ipykernel_launcher.py:1: UserWarning: `Model.evaluate_generator` is deprecated and will be removed in a future version. Please use `Model.evaluate`, which supports generators.\n",
            "  \"\"\"Entry point for launching an IPython kernel.\n"
          ]
        },
        {
          "output_type": "execute_result",
          "data": {
            "text/plain": [
              "[0.26348036527633667,\n",
              " 0.9015151262283325,\n",
              " 1944.0,\n",
              " 5672.0,\n",
              " 820.0,\n",
              " 12.0,\n",
              " 0.7033284902572632,\n",
              " 0.9938650131225586]"
            ]
          },
          "metadata": {},
          "execution_count": 25
        }
      ]
    },
    {
      "cell_type": "code",
      "source": [
        ""
      ],
      "metadata": {
        "id": "uB6hE-duM0Wr"
      },
      "execution_count": null,
      "outputs": []
    }
  ]
}